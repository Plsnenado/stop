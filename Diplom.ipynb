{
 "cells": [
  {
   "cell_type": "code",
   "execution_count": 1,
   "metadata": {},
   "outputs": [],
   "source": [
    "import pandas as pd\n",
    "import numpy as np"
   ]
  },
  {
   "cell_type": "code",
   "execution_count": 2,
   "metadata": {},
   "outputs": [],
   "source": [
    "pd.set_option('display.max_columns', None)"
   ]
  },
  {
   "cell_type": "code",
   "execution_count": 3,
   "metadata": {},
   "outputs": [
    {
     "data": {
      "text/html": [
       "<div>\n",
       "<style scoped>\n",
       "    .dataframe tbody tr th:only-of-type {\n",
       "        vertical-align: middle;\n",
       "    }\n",
       "\n",
       "    .dataframe tbody tr th {\n",
       "        vertical-align: top;\n",
       "    }\n",
       "\n",
       "    .dataframe thead th {\n",
       "        text-align: right;\n",
       "    }\n",
       "</style>\n",
       "<table border=\"1\" class=\"dataframe\">\n",
       "  <thead>\n",
       "    <tr style=\"text-align: right;\">\n",
       "      <th></th>\n",
       "      <th>Employee ID</th>\n",
       "      <th>Gender</th>\n",
       "      <th>Start date</th>\n",
       "      <th>Quit date</th>\n",
       "      <th>SHIFT</th>\n",
       "      <th>Area</th>\n",
       "      <th>Birthday</th>\n",
       "      <th>Distance</th>\n",
       "    </tr>\n",
       "  </thead>\n",
       "  <tbody>\n",
       "    <tr>\n",
       "      <th>0</th>\n",
       "      <td>18819</td>\n",
       "      <td>м</td>\n",
       "      <td>2018-05-29</td>\n",
       "      <td>2018-07-30</td>\n",
       "      <td>SHIFT 2</td>\n",
       "      <td>PACK_MB</td>\n",
       "      <td>1993-04-30</td>\n",
       "      <td>18.0</td>\n",
       "    </tr>\n",
       "    <tr>\n",
       "      <th>1</th>\n",
       "      <td>23072</td>\n",
       "      <td>ж</td>\n",
       "      <td>2019-02-19</td>\n",
       "      <td>2019-03-13</td>\n",
       "      <td>SHIFT 4</td>\n",
       "      <td>PICK</td>\n",
       "      <td>1979-05-03</td>\n",
       "      <td>18.0</td>\n",
       "    </tr>\n",
       "    <tr>\n",
       "      <th>2</th>\n",
       "      <td>9083</td>\n",
       "      <td>ж</td>\n",
       "      <td>2015-07-22</td>\n",
       "      <td>2017-04-04</td>\n",
       "      <td>SHIFT 3</td>\n",
       "      <td>RET</td>\n",
       "      <td>1967-07-07</td>\n",
       "      <td>7.0</td>\n",
       "    </tr>\n",
       "    <tr>\n",
       "      <th>3</th>\n",
       "      <td>14898</td>\n",
       "      <td>ж</td>\n",
       "      <td>2017-04-07</td>\n",
       "      <td>2017-04-24</td>\n",
       "      <td>SHIFT 1</td>\n",
       "      <td>PACK_MB</td>\n",
       "      <td>1967-12-15</td>\n",
       "      <td>7.0</td>\n",
       "    </tr>\n",
       "    <tr>\n",
       "      <th>4</th>\n",
       "      <td>19827</td>\n",
       "      <td>м</td>\n",
       "      <td>2018-08-02</td>\n",
       "      <td>2018-09-28</td>\n",
       "      <td>SHIFT 3</td>\n",
       "      <td>INV</td>\n",
       "      <td>1998-10-04</td>\n",
       "      <td>32.0</td>\n",
       "    </tr>\n",
       "  </tbody>\n",
       "</table>\n",
       "</div>"
      ],
      "text/plain": [
       "  Employee ID Gender Start date  Quit date    SHIFT     Area   Birthday  \\\n",
       "0       18819      м 2018-05-29 2018-07-30  SHIFT 2  PACK_MB 1993-04-30   \n",
       "1       23072      ж 2019-02-19 2019-03-13  SHIFT 4     PICK 1979-05-03   \n",
       "2        9083      ж 2015-07-22 2017-04-04  SHIFT 3      RET 1967-07-07   \n",
       "3       14898      ж 2017-04-07 2017-04-24  SHIFT 1  PACK_MB 1967-12-15   \n",
       "4       19827      м 2018-08-02 2018-09-28  SHIFT 3      INV 1998-10-04   \n",
       "\n",
       "   Distance  \n",
       "0      18.0  \n",
       "1      18.0  \n",
       "2       7.0  \n",
       "3       7.0  \n",
       "4      32.0  "
      ]
     },
     "execution_count": 3,
     "metadata": {},
     "output_type": "execute_result"
    }
   ],
   "source": [
    "#данные по каждому сотруднику \n",
    "\n",
    "data_1С=pd.read_excel('FC_HR.xlsx', sheet_name='1С')\n",
    "data_1С.head()"
   ]
  },
  {
   "cell_type": "code",
   "execution_count": 4,
   "metadata": {},
   "outputs": [
    {
     "data": {
      "text/html": [
       "<div>\n",
       "<style scoped>\n",
       "    .dataframe tbody tr th:only-of-type {\n",
       "        vertical-align: middle;\n",
       "    }\n",
       "\n",
       "    .dataframe tbody tr th {\n",
       "        vertical-align: top;\n",
       "    }\n",
       "\n",
       "    .dataframe thead th {\n",
       "        text-align: right;\n",
       "    }\n",
       "</style>\n",
       "<table border=\"1\" class=\"dataframe\">\n",
       "  <thead>\n",
       "    <tr style=\"text-align: right;\">\n",
       "      <th></th>\n",
       "      <th>Month</th>\n",
       "      <th>Table #</th>\n",
       "      <th>Process</th>\n",
       "      <th># of mistakes</th>\n",
       "      <th>Fact productivity</th>\n",
       "      <th>Period</th>\n",
       "      <th>Salary vs Last salary</th>\n",
       "      <th>Vacation</th>\n",
       "      <th>Sick</th>\n",
       "      <th>Worked</th>\n",
       "    </tr>\n",
       "  </thead>\n",
       "  <tbody>\n",
       "    <tr>\n",
       "      <th>0</th>\n",
       "      <td>2018-01-01</td>\n",
       "      <td>15944</td>\n",
       "      <td>PACK_IS</td>\n",
       "      <td>1.0</td>\n",
       "      <td>0.825679</td>\n",
       "      <td>12</td>\n",
       "      <td>-0.332988</td>\n",
       "      <td>0</td>\n",
       "      <td>0</td>\n",
       "      <td>0.715909</td>\n",
       "    </tr>\n",
       "    <tr>\n",
       "      <th>1</th>\n",
       "      <td>2018-01-01</td>\n",
       "      <td>14446</td>\n",
       "      <td>PACK_IS</td>\n",
       "      <td>0.0</td>\n",
       "      <td>1.099108</td>\n",
       "      <td>12</td>\n",
       "      <td>-0.134292</td>\n",
       "      <td>0</td>\n",
       "      <td>0</td>\n",
       "      <td>0.750000</td>\n",
       "    </tr>\n",
       "    <tr>\n",
       "      <th>2</th>\n",
       "      <td>2018-01-01</td>\n",
       "      <td>7526</td>\n",
       "      <td>UNPACK</td>\n",
       "      <td>1.0</td>\n",
       "      <td>0.000000</td>\n",
       "      <td>12</td>\n",
       "      <td>0.000000</td>\n",
       "      <td>0</td>\n",
       "      <td>0</td>\n",
       "      <td>1.625000</td>\n",
       "    </tr>\n",
       "    <tr>\n",
       "      <th>3</th>\n",
       "      <td>2018-01-01</td>\n",
       "      <td>17538</td>\n",
       "      <td>PACK_IS</td>\n",
       "      <td>2.0</td>\n",
       "      <td>0.524397</td>\n",
       "      <td>12</td>\n",
       "      <td>-0.396514</td>\n",
       "      <td>0</td>\n",
       "      <td>0</td>\n",
       "      <td>0.875000</td>\n",
       "    </tr>\n",
       "    <tr>\n",
       "      <th>4</th>\n",
       "      <td>2018-01-01</td>\n",
       "      <td>9433</td>\n",
       "      <td>PACK_IS</td>\n",
       "      <td>0.0</td>\n",
       "      <td>0.817813</td>\n",
       "      <td>12</td>\n",
       "      <td>-0.359600</td>\n",
       "      <td>0</td>\n",
       "      <td>0</td>\n",
       "      <td>0.687500</td>\n",
       "    </tr>\n",
       "  </tbody>\n",
       "</table>\n",
       "</div>"
      ],
      "text/plain": [
       "       Month Table #  Process  # of mistakes  Fact productivity  Period  \\\n",
       "0 2018-01-01   15944  PACK_IS            1.0           0.825679      12   \n",
       "1 2018-01-01   14446  PACK_IS            0.0           1.099108      12   \n",
       "2 2018-01-01    7526   UNPACK            1.0           0.000000      12   \n",
       "3 2018-01-01   17538  PACK_IS            2.0           0.524397      12   \n",
       "4 2018-01-01    9433  PACK_IS            0.0           0.817813      12   \n",
       "\n",
       "   Salary vs Last salary  Vacation  Sick    Worked  \n",
       "0              -0.332988         0     0  0.715909  \n",
       "1              -0.134292         0     0  0.750000  \n",
       "2               0.000000         0     0  1.625000  \n",
       "3              -0.396514         0     0  0.875000  \n",
       "4              -0.359600         0     0  0.687500  "
      ]
     },
     "execution_count": 4,
     "metadata": {},
     "output_type": "execute_result"
    }
   ],
   "source": [
    "#данные по месяцам\n",
    "data_m=pd.read_excel('FC_HR.xlsx', sheet_name='Data for own')\n",
    "data_m.head()"
   ]
  },
  {
   "cell_type": "code",
   "execution_count": 5,
   "metadata": {},
   "outputs": [
    {
     "data": {
      "text/html": [
       "<div>\n",
       "<style scoped>\n",
       "    .dataframe tbody tr th:only-of-type {\n",
       "        vertical-align: middle;\n",
       "    }\n",
       "\n",
       "    .dataframe tbody tr th {\n",
       "        vertical-align: top;\n",
       "    }\n",
       "\n",
       "    .dataframe thead th {\n",
       "        text-align: right;\n",
       "    }\n",
       "</style>\n",
       "<table border=\"1\" class=\"dataframe\">\n",
       "  <thead>\n",
       "    <tr style=\"text-align: right;\">\n",
       "      <th></th>\n",
       "      <th>Month</th>\n",
       "      <th>Table #</th>\n",
       "      <th>Process</th>\n",
       "      <th># of mistakes</th>\n",
       "      <th>Fact productivity</th>\n",
       "      <th>Period</th>\n",
       "      <th>Salary vs Last salary</th>\n",
       "      <th>Vacation</th>\n",
       "      <th>Sick</th>\n",
       "      <th>Worked</th>\n",
       "      <th>Employee ID</th>\n",
       "      <th>Gender</th>\n",
       "      <th>Start date</th>\n",
       "      <th>Quit date</th>\n",
       "      <th>SHIFT</th>\n",
       "      <th>Area</th>\n",
       "      <th>Birthday</th>\n",
       "      <th>Distance</th>\n",
       "    </tr>\n",
       "  </thead>\n",
       "  <tbody>\n",
       "    <tr>\n",
       "      <th>0</th>\n",
       "      <td>2018-01-01</td>\n",
       "      <td>15944</td>\n",
       "      <td>PACK_IS</td>\n",
       "      <td>1.0</td>\n",
       "      <td>0.825679</td>\n",
       "      <td>12</td>\n",
       "      <td>-0.332988</td>\n",
       "      <td>0</td>\n",
       "      <td>0</td>\n",
       "      <td>0.715909</td>\n",
       "      <td>15944</td>\n",
       "      <td>ж</td>\n",
       "      <td>2017-08-01</td>\n",
       "      <td>2018-05-31</td>\n",
       "      <td>SHIFT 1</td>\n",
       "      <td>PACK_IS</td>\n",
       "      <td>1969-12-16</td>\n",
       "      <td>18.0</td>\n",
       "    </tr>\n",
       "    <tr>\n",
       "      <th>1</th>\n",
       "      <td>2018-01-01</td>\n",
       "      <td>14446</td>\n",
       "      <td>PACK_IS</td>\n",
       "      <td>0.0</td>\n",
       "      <td>1.099108</td>\n",
       "      <td>12</td>\n",
       "      <td>-0.134292</td>\n",
       "      <td>0</td>\n",
       "      <td>0</td>\n",
       "      <td>0.750000</td>\n",
       "      <td>14446</td>\n",
       "      <td>ж</td>\n",
       "      <td>2017-02-14</td>\n",
       "      <td>2018-08-28</td>\n",
       "      <td>SHIFT 1</td>\n",
       "      <td>PACK_IS</td>\n",
       "      <td>1986-10-17</td>\n",
       "      <td>25.0</td>\n",
       "    </tr>\n",
       "    <tr>\n",
       "      <th>2</th>\n",
       "      <td>2018-01-01</td>\n",
       "      <td>7526</td>\n",
       "      <td>UNPACK</td>\n",
       "      <td>1.0</td>\n",
       "      <td>0.000000</td>\n",
       "      <td>12</td>\n",
       "      <td>0.000000</td>\n",
       "      <td>0</td>\n",
       "      <td>0</td>\n",
       "      <td>1.625000</td>\n",
       "      <td>7526</td>\n",
       "      <td>м</td>\n",
       "      <td>2015-01-20</td>\n",
       "      <td>2019-10-07</td>\n",
       "      <td>SHIFT 1</td>\n",
       "      <td>UNPACK</td>\n",
       "      <td>1973-06-16</td>\n",
       "      <td>100.0</td>\n",
       "    </tr>\n",
       "    <tr>\n",
       "      <th>3</th>\n",
       "      <td>2018-01-01</td>\n",
       "      <td>17538</td>\n",
       "      <td>PACK_IS</td>\n",
       "      <td>2.0</td>\n",
       "      <td>0.524397</td>\n",
       "      <td>12</td>\n",
       "      <td>-0.396514</td>\n",
       "      <td>0</td>\n",
       "      <td>0</td>\n",
       "      <td>0.875000</td>\n",
       "      <td>17538</td>\n",
       "      <td>ж</td>\n",
       "      <td>2017-11-21</td>\n",
       "      <td>NaT</td>\n",
       "      <td>SHIFT 1</td>\n",
       "      <td>PACK_IS</td>\n",
       "      <td>1965-01-14</td>\n",
       "      <td>7.0</td>\n",
       "    </tr>\n",
       "    <tr>\n",
       "      <th>4</th>\n",
       "      <td>2018-01-01</td>\n",
       "      <td>9433</td>\n",
       "      <td>PACK_IS</td>\n",
       "      <td>0.0</td>\n",
       "      <td>0.817813</td>\n",
       "      <td>12</td>\n",
       "      <td>-0.359600</td>\n",
       "      <td>0</td>\n",
       "      <td>0</td>\n",
       "      <td>0.687500</td>\n",
       "      <td>NaN</td>\n",
       "      <td>NaN</td>\n",
       "      <td>NaT</td>\n",
       "      <td>NaT</td>\n",
       "      <td>NaN</td>\n",
       "      <td>NaN</td>\n",
       "      <td>NaT</td>\n",
       "      <td>NaN</td>\n",
       "    </tr>\n",
       "  </tbody>\n",
       "</table>\n",
       "</div>"
      ],
      "text/plain": [
       "       Month Table #  Process  # of mistakes  Fact productivity  Period  \\\n",
       "0 2018-01-01   15944  PACK_IS            1.0           0.825679      12   \n",
       "1 2018-01-01   14446  PACK_IS            0.0           1.099108      12   \n",
       "2 2018-01-01    7526   UNPACK            1.0           0.000000      12   \n",
       "3 2018-01-01   17538  PACK_IS            2.0           0.524397      12   \n",
       "4 2018-01-01    9433  PACK_IS            0.0           0.817813      12   \n",
       "\n",
       "   Salary vs Last salary  Vacation  Sick    Worked Employee ID Gender  \\\n",
       "0              -0.332988         0     0  0.715909       15944      ж   \n",
       "1              -0.134292         0     0  0.750000       14446      ж   \n",
       "2               0.000000         0     0  1.625000        7526      м   \n",
       "3              -0.396514         0     0  0.875000       17538      ж   \n",
       "4              -0.359600         0     0  0.687500         NaN    NaN   \n",
       "\n",
       "  Start date  Quit date    SHIFT     Area   Birthday  Distance  \n",
       "0 2017-08-01 2018-05-31  SHIFT 1  PACK_IS 1969-12-16      18.0  \n",
       "1 2017-02-14 2018-08-28  SHIFT 1  PACK_IS 1986-10-17      25.0  \n",
       "2 2015-01-20 2019-10-07  SHIFT 1   UNPACK 1973-06-16     100.0  \n",
       "3 2017-11-21        NaT  SHIFT 1  PACK_IS 1965-01-14       7.0  \n",
       "4        NaT        NaT      NaN      NaN        NaT       NaN  "
      ]
     },
     "execution_count": 5,
     "metadata": {},
     "output_type": "execute_result"
    }
   ],
   "source": [
    "#C помощью merge совмещаем данные\n",
    "data_m=data_m.merge(data_1С, how='left', left_on='Table #', right_on='Employee ID')\n",
    "data_m.head()"
   ]
  },
  {
   "cell_type": "code",
   "execution_count": 6,
   "metadata": {},
   "outputs": [],
   "source": [
    "#Убираем строки по сотрудникам, которые нет в листе 1C\n",
    "data_m=data_m[data_m['Gender'].notnull()]"
   ]
  },
  {
   "cell_type": "code",
   "execution_count": 7,
   "metadata": {},
   "outputs": [
    {
     "data": {
      "text/html": [
       "<div>\n",
       "<style scoped>\n",
       "    .dataframe tbody tr th:only-of-type {\n",
       "        vertical-align: middle;\n",
       "    }\n",
       "\n",
       "    .dataframe tbody tr th {\n",
       "        vertical-align: top;\n",
       "    }\n",
       "\n",
       "    .dataframe thead th {\n",
       "        text-align: right;\n",
       "    }\n",
       "</style>\n",
       "<table border=\"1\" class=\"dataframe\">\n",
       "  <thead>\n",
       "    <tr style=\"text-align: right;\">\n",
       "      <th></th>\n",
       "      <th>Month</th>\n",
       "      <th>Table #</th>\n",
       "      <th>Process</th>\n",
       "      <th># of mistakes</th>\n",
       "      <th>Fact productivity</th>\n",
       "      <th>Period</th>\n",
       "      <th>Salary vs Last salary</th>\n",
       "      <th>Vacation</th>\n",
       "      <th>Sick</th>\n",
       "      <th>Worked</th>\n",
       "      <th>Employee ID</th>\n",
       "      <th>Gender</th>\n",
       "      <th>Start date</th>\n",
       "      <th>Quit date</th>\n",
       "      <th>SHIFT</th>\n",
       "      <th>Area</th>\n",
       "      <th>Birthday</th>\n",
       "      <th>Distance</th>\n",
       "    </tr>\n",
       "  </thead>\n",
       "  <tbody>\n",
       "    <tr>\n",
       "      <th>0</th>\n",
       "      <td>2018-01-01</td>\n",
       "      <td>15944</td>\n",
       "      <td>PACK_IS</td>\n",
       "      <td>1.0</td>\n",
       "      <td>0.825679</td>\n",
       "      <td>12</td>\n",
       "      <td>-0.332988</td>\n",
       "      <td>0</td>\n",
       "      <td>0</td>\n",
       "      <td>0.715909</td>\n",
       "      <td>15944</td>\n",
       "      <td>ж</td>\n",
       "      <td>2017-08-01</td>\n",
       "      <td>2018-05-31</td>\n",
       "      <td>SHIFT 1</td>\n",
       "      <td>PACK_IS</td>\n",
       "      <td>1969-12-16</td>\n",
       "      <td>18.0</td>\n",
       "    </tr>\n",
       "    <tr>\n",
       "      <th>1</th>\n",
       "      <td>2018-01-01</td>\n",
       "      <td>14446</td>\n",
       "      <td>PACK_IS</td>\n",
       "      <td>0.0</td>\n",
       "      <td>1.099108</td>\n",
       "      <td>12</td>\n",
       "      <td>-0.134292</td>\n",
       "      <td>0</td>\n",
       "      <td>0</td>\n",
       "      <td>0.750000</td>\n",
       "      <td>14446</td>\n",
       "      <td>ж</td>\n",
       "      <td>2017-02-14</td>\n",
       "      <td>2018-08-28</td>\n",
       "      <td>SHIFT 1</td>\n",
       "      <td>PACK_IS</td>\n",
       "      <td>1986-10-17</td>\n",
       "      <td>25.0</td>\n",
       "    </tr>\n",
       "    <tr>\n",
       "      <th>2</th>\n",
       "      <td>2018-01-01</td>\n",
       "      <td>7526</td>\n",
       "      <td>UNPACK</td>\n",
       "      <td>1.0</td>\n",
       "      <td>0.000000</td>\n",
       "      <td>12</td>\n",
       "      <td>0.000000</td>\n",
       "      <td>0</td>\n",
       "      <td>0</td>\n",
       "      <td>1.625000</td>\n",
       "      <td>7526</td>\n",
       "      <td>м</td>\n",
       "      <td>2015-01-20</td>\n",
       "      <td>2019-10-07</td>\n",
       "      <td>SHIFT 1</td>\n",
       "      <td>UNPACK</td>\n",
       "      <td>1973-06-16</td>\n",
       "      <td>100.0</td>\n",
       "    </tr>\n",
       "    <tr>\n",
       "      <th>3</th>\n",
       "      <td>2018-01-01</td>\n",
       "      <td>17538</td>\n",
       "      <td>PACK_IS</td>\n",
       "      <td>2.0</td>\n",
       "      <td>0.524397</td>\n",
       "      <td>12</td>\n",
       "      <td>-0.396514</td>\n",
       "      <td>0</td>\n",
       "      <td>0</td>\n",
       "      <td>0.875000</td>\n",
       "      <td>17538</td>\n",
       "      <td>ж</td>\n",
       "      <td>2017-11-21</td>\n",
       "      <td>NaT</td>\n",
       "      <td>SHIFT 1</td>\n",
       "      <td>PACK_IS</td>\n",
       "      <td>1965-01-14</td>\n",
       "      <td>7.0</td>\n",
       "    </tr>\n",
       "    <tr>\n",
       "      <th>5</th>\n",
       "      <td>2018-01-01</td>\n",
       "      <td>7604</td>\n",
       "      <td>PREMIUM</td>\n",
       "      <td>0.0</td>\n",
       "      <td>0.987461</td>\n",
       "      <td>12</td>\n",
       "      <td>0.027932</td>\n",
       "      <td>0</td>\n",
       "      <td>0</td>\n",
       "      <td>0.772727</td>\n",
       "      <td>7604</td>\n",
       "      <td>ж</td>\n",
       "      <td>2015-02-01</td>\n",
       "      <td>NaT</td>\n",
       "      <td>SHIFT х</td>\n",
       "      <td>RETURNS_GROUP</td>\n",
       "      <td>1963-12-04</td>\n",
       "      <td>18.0</td>\n",
       "    </tr>\n",
       "  </tbody>\n",
       "</table>\n",
       "</div>"
      ],
      "text/plain": [
       "       Month Table #  Process  # of mistakes  Fact productivity  Period  \\\n",
       "0 2018-01-01   15944  PACK_IS            1.0           0.825679      12   \n",
       "1 2018-01-01   14446  PACK_IS            0.0           1.099108      12   \n",
       "2 2018-01-01    7526   UNPACK            1.0           0.000000      12   \n",
       "3 2018-01-01   17538  PACK_IS            2.0           0.524397      12   \n",
       "5 2018-01-01    7604  PREMIUM            0.0           0.987461      12   \n",
       "\n",
       "   Salary vs Last salary  Vacation  Sick    Worked Employee ID Gender  \\\n",
       "0              -0.332988         0     0  0.715909       15944      ж   \n",
       "1              -0.134292         0     0  0.750000       14446      ж   \n",
       "2               0.000000         0     0  1.625000        7526      м   \n",
       "3              -0.396514         0     0  0.875000       17538      ж   \n",
       "5               0.027932         0     0  0.772727        7604      ж   \n",
       "\n",
       "  Start date  Quit date    SHIFT           Area   Birthday  Distance  \n",
       "0 2017-08-01 2018-05-31  SHIFT 1        PACK_IS 1969-12-16      18.0  \n",
       "1 2017-02-14 2018-08-28  SHIFT 1        PACK_IS 1986-10-17      25.0  \n",
       "2 2015-01-20 2019-10-07  SHIFT 1         UNPACK 1973-06-16     100.0  \n",
       "3 2017-11-21        NaT  SHIFT 1        PACK_IS 1965-01-14       7.0  \n",
       "5 2015-02-01        NaT  SHIFT х  RETURNS_GROUP 1963-12-04      18.0  "
      ]
     },
     "execution_count": 7,
     "metadata": {},
     "output_type": "execute_result"
    }
   ],
   "source": [
    "#Удаляем ненужную таблицу и смотрим необходимую\n",
    "del data_1С\n",
    "data_m.head()"
   ]
  },
  {
   "cell_type": "code",
   "execution_count": 8,
   "metadata": {},
   "outputs": [
    {
     "data": {
      "text/html": [
       "<div>\n",
       "<style scoped>\n",
       "    .dataframe tbody tr th:only-of-type {\n",
       "        vertical-align: middle;\n",
       "    }\n",
       "\n",
       "    .dataframe tbody tr th {\n",
       "        vertical-align: top;\n",
       "    }\n",
       "\n",
       "    .dataframe thead th {\n",
       "        text-align: right;\n",
       "    }\n",
       "</style>\n",
       "<table border=\"1\" class=\"dataframe\">\n",
       "  <thead>\n",
       "    <tr style=\"text-align: right;\">\n",
       "      <th></th>\n",
       "      <th>Month</th>\n",
       "      <th>Table #</th>\n",
       "      <th>Process</th>\n",
       "      <th># of mistakes</th>\n",
       "      <th>Fact productivity</th>\n",
       "      <th>Period</th>\n",
       "      <th>Salary vs Last salary</th>\n",
       "      <th>Vacation</th>\n",
       "      <th>Sick</th>\n",
       "      <th>Worked</th>\n",
       "      <th>Employee ID</th>\n",
       "      <th>Gender</th>\n",
       "      <th>Start date</th>\n",
       "      <th>Quit date</th>\n",
       "      <th>SHIFT</th>\n",
       "      <th>Area</th>\n",
       "      <th>Birthday</th>\n",
       "      <th>Distance</th>\n",
       "      <th>Quit_month</th>\n",
       "      <th>Start_month</th>\n",
       "    </tr>\n",
       "  </thead>\n",
       "  <tbody>\n",
       "    <tr>\n",
       "      <th>0</th>\n",
       "      <td>2018-01-01</td>\n",
       "      <td>15944</td>\n",
       "      <td>PACK_IS</td>\n",
       "      <td>1.0</td>\n",
       "      <td>0.825679</td>\n",
       "      <td>12</td>\n",
       "      <td>-0.332988</td>\n",
       "      <td>0</td>\n",
       "      <td>0</td>\n",
       "      <td>0.715909</td>\n",
       "      <td>15944</td>\n",
       "      <td>ж</td>\n",
       "      <td>2017-08-01</td>\n",
       "      <td>2018-05-31</td>\n",
       "      <td>SHIFT 1</td>\n",
       "      <td>PACK_IS</td>\n",
       "      <td>1969-12-16</td>\n",
       "      <td>18.0</td>\n",
       "      <td>2018-05-01</td>\n",
       "      <td>2017-08-01</td>\n",
       "    </tr>\n",
       "    <tr>\n",
       "      <th>1</th>\n",
       "      <td>2018-01-01</td>\n",
       "      <td>14446</td>\n",
       "      <td>PACK_IS</td>\n",
       "      <td>0.0</td>\n",
       "      <td>1.099108</td>\n",
       "      <td>12</td>\n",
       "      <td>-0.134292</td>\n",
       "      <td>0</td>\n",
       "      <td>0</td>\n",
       "      <td>0.750000</td>\n",
       "      <td>14446</td>\n",
       "      <td>ж</td>\n",
       "      <td>2017-02-14</td>\n",
       "      <td>2018-08-28</td>\n",
       "      <td>SHIFT 1</td>\n",
       "      <td>PACK_IS</td>\n",
       "      <td>1986-10-17</td>\n",
       "      <td>25.0</td>\n",
       "      <td>2018-08-01</td>\n",
       "      <td>2017-02-01</td>\n",
       "    </tr>\n",
       "    <tr>\n",
       "      <th>2</th>\n",
       "      <td>2018-01-01</td>\n",
       "      <td>7526</td>\n",
       "      <td>UNPACK</td>\n",
       "      <td>1.0</td>\n",
       "      <td>0.000000</td>\n",
       "      <td>12</td>\n",
       "      <td>0.000000</td>\n",
       "      <td>0</td>\n",
       "      <td>0</td>\n",
       "      <td>1.625000</td>\n",
       "      <td>7526</td>\n",
       "      <td>м</td>\n",
       "      <td>2015-01-20</td>\n",
       "      <td>2019-10-07</td>\n",
       "      <td>SHIFT 1</td>\n",
       "      <td>UNPACK</td>\n",
       "      <td>1973-06-16</td>\n",
       "      <td>100.0</td>\n",
       "      <td>2019-10-01</td>\n",
       "      <td>2015-01-01</td>\n",
       "    </tr>\n",
       "    <tr>\n",
       "      <th>3</th>\n",
       "      <td>2018-01-01</td>\n",
       "      <td>17538</td>\n",
       "      <td>PACK_IS</td>\n",
       "      <td>2.0</td>\n",
       "      <td>0.524397</td>\n",
       "      <td>12</td>\n",
       "      <td>-0.396514</td>\n",
       "      <td>0</td>\n",
       "      <td>0</td>\n",
       "      <td>0.875000</td>\n",
       "      <td>17538</td>\n",
       "      <td>ж</td>\n",
       "      <td>2017-11-21</td>\n",
       "      <td>NaT</td>\n",
       "      <td>SHIFT 1</td>\n",
       "      <td>PACK_IS</td>\n",
       "      <td>1965-01-14</td>\n",
       "      <td>7.0</td>\n",
       "      <td>NaT</td>\n",
       "      <td>2017-11-01</td>\n",
       "    </tr>\n",
       "    <tr>\n",
       "      <th>5</th>\n",
       "      <td>2018-01-01</td>\n",
       "      <td>7604</td>\n",
       "      <td>PREMIUM</td>\n",
       "      <td>0.0</td>\n",
       "      <td>0.987461</td>\n",
       "      <td>12</td>\n",
       "      <td>0.027932</td>\n",
       "      <td>0</td>\n",
       "      <td>0</td>\n",
       "      <td>0.772727</td>\n",
       "      <td>7604</td>\n",
       "      <td>ж</td>\n",
       "      <td>2015-02-01</td>\n",
       "      <td>NaT</td>\n",
       "      <td>SHIFT х</td>\n",
       "      <td>RETURNS_GROUP</td>\n",
       "      <td>1963-12-04</td>\n",
       "      <td>18.0</td>\n",
       "      <td>NaT</td>\n",
       "      <td>2015-02-01</td>\n",
       "    </tr>\n",
       "  </tbody>\n",
       "</table>\n",
       "</div>"
      ],
      "text/plain": [
       "       Month Table #  Process  # of mistakes  Fact productivity  Period  \\\n",
       "0 2018-01-01   15944  PACK_IS            1.0           0.825679      12   \n",
       "1 2018-01-01   14446  PACK_IS            0.0           1.099108      12   \n",
       "2 2018-01-01    7526   UNPACK            1.0           0.000000      12   \n",
       "3 2018-01-01   17538  PACK_IS            2.0           0.524397      12   \n",
       "5 2018-01-01    7604  PREMIUM            0.0           0.987461      12   \n",
       "\n",
       "   Salary vs Last salary  Vacation  Sick    Worked Employee ID Gender  \\\n",
       "0              -0.332988         0     0  0.715909       15944      ж   \n",
       "1              -0.134292         0     0  0.750000       14446      ж   \n",
       "2               0.000000         0     0  1.625000        7526      м   \n",
       "3              -0.396514         0     0  0.875000       17538      ж   \n",
       "5               0.027932         0     0  0.772727        7604      ж   \n",
       "\n",
       "  Start date  Quit date    SHIFT           Area   Birthday  Distance  \\\n",
       "0 2017-08-01 2018-05-31  SHIFT 1        PACK_IS 1969-12-16      18.0   \n",
       "1 2017-02-14 2018-08-28  SHIFT 1        PACK_IS 1986-10-17      25.0   \n",
       "2 2015-01-20 2019-10-07  SHIFT 1         UNPACK 1973-06-16     100.0   \n",
       "3 2017-11-21        NaT  SHIFT 1        PACK_IS 1965-01-14       7.0   \n",
       "5 2015-02-01        NaT  SHIFT х  RETURNS_GROUP 1963-12-04      18.0   \n",
       "\n",
       "  Quit_month Start_month  \n",
       "0 2018-05-01  2017-08-01  \n",
       "1 2018-08-01  2017-02-01  \n",
       "2 2019-10-01  2015-01-01  \n",
       "3        NaT  2017-11-01  \n",
       "5        NaT  2015-02-01  "
      ]
     },
     "execution_count": 8,
     "metadata": {},
     "output_type": "execute_result"
    }
   ],
   "source": [
    "#Добавляем стобцы - месяц увольненияи месяц начала работы\n",
    "data_m['Quit_month']=pd.to_datetime(data_m['Quit date']).dt.to_period('M').dt.to_timestamp()\n",
    "data_m['Start_month']=pd.to_datetime(data_m['Start date']).dt.to_period('M').dt.to_timestamp()\n",
    "data_m.head()"
   ]
  },
  {
   "cell_type": "code",
   "execution_count": 9,
   "metadata": {},
   "outputs": [],
   "source": [
    "#Создаем переменную Leaver - целевая переменная\n",
    "data_m['Leaver']=data_m.apply(lambda x: 1 if x['Month']==x['Quit_month']\n",
    "                                  else 0, axis=1)\n",
    "#Создаем переменную \"Новичок\"\n",
    "data_m['Newcommer']=data_m.apply(lambda x: 1 if x['Month']==x['Start_month']\n",
    "                                  else 0, axis=1)"
   ]
  },
  {
   "cell_type": "code",
   "execution_count": 10,
   "metadata": {},
   "outputs": [
    {
     "data": {
      "text/html": [
       "<div>\n",
       "<style scoped>\n",
       "    .dataframe tbody tr th:only-of-type {\n",
       "        vertical-align: middle;\n",
       "    }\n",
       "\n",
       "    .dataframe tbody tr th {\n",
       "        vertical-align: top;\n",
       "    }\n",
       "\n",
       "    .dataframe thead th {\n",
       "        text-align: right;\n",
       "    }\n",
       "</style>\n",
       "<table border=\"1\" class=\"dataframe\">\n",
       "  <thead>\n",
       "    <tr style=\"text-align: right;\">\n",
       "      <th></th>\n",
       "      <th>Month</th>\n",
       "      <th>Table #</th>\n",
       "      <th>Process</th>\n",
       "      <th># of mistakes</th>\n",
       "      <th>Fact productivity</th>\n",
       "      <th>Period</th>\n",
       "      <th>Salary vs Last salary</th>\n",
       "      <th>Vacation</th>\n",
       "      <th>Sick</th>\n",
       "      <th>Worked</th>\n",
       "      <th>Employee ID</th>\n",
       "      <th>Gender</th>\n",
       "      <th>Start date</th>\n",
       "      <th>Quit date</th>\n",
       "      <th>SHIFT</th>\n",
       "      <th>Area</th>\n",
       "      <th>Birthday</th>\n",
       "      <th>Distance</th>\n",
       "      <th>Quit_month</th>\n",
       "      <th>Start_month</th>\n",
       "      <th>Leaver</th>\n",
       "      <th>Newcommer</th>\n",
       "    </tr>\n",
       "  </thead>\n",
       "  <tbody>\n",
       "    <tr>\n",
       "      <th>0</th>\n",
       "      <td>2018-01-01</td>\n",
       "      <td>15944</td>\n",
       "      <td>PACK_IS</td>\n",
       "      <td>1.0</td>\n",
       "      <td>0.825679</td>\n",
       "      <td>12</td>\n",
       "      <td>-0.332988</td>\n",
       "      <td>0</td>\n",
       "      <td>0</td>\n",
       "      <td>0.715909</td>\n",
       "      <td>15944</td>\n",
       "      <td>ж</td>\n",
       "      <td>2017-08-01</td>\n",
       "      <td>2018-05-31</td>\n",
       "      <td>SHIFT 1</td>\n",
       "      <td>PACK_IS</td>\n",
       "      <td>1969-12-16</td>\n",
       "      <td>18.0</td>\n",
       "      <td>2018-05-01</td>\n",
       "      <td>2017-08-01</td>\n",
       "      <td>0</td>\n",
       "      <td>0</td>\n",
       "    </tr>\n",
       "    <tr>\n",
       "      <th>1</th>\n",
       "      <td>2018-01-01</td>\n",
       "      <td>14446</td>\n",
       "      <td>PACK_IS</td>\n",
       "      <td>0.0</td>\n",
       "      <td>1.099108</td>\n",
       "      <td>12</td>\n",
       "      <td>-0.134292</td>\n",
       "      <td>0</td>\n",
       "      <td>0</td>\n",
       "      <td>0.750000</td>\n",
       "      <td>14446</td>\n",
       "      <td>ж</td>\n",
       "      <td>2017-02-14</td>\n",
       "      <td>2018-08-28</td>\n",
       "      <td>SHIFT 1</td>\n",
       "      <td>PACK_IS</td>\n",
       "      <td>1986-10-17</td>\n",
       "      <td>25.0</td>\n",
       "      <td>2018-08-01</td>\n",
       "      <td>2017-02-01</td>\n",
       "      <td>0</td>\n",
       "      <td>0</td>\n",
       "    </tr>\n",
       "    <tr>\n",
       "      <th>2</th>\n",
       "      <td>2018-01-01</td>\n",
       "      <td>7526</td>\n",
       "      <td>UNPACK</td>\n",
       "      <td>1.0</td>\n",
       "      <td>0.000000</td>\n",
       "      <td>12</td>\n",
       "      <td>0.000000</td>\n",
       "      <td>0</td>\n",
       "      <td>0</td>\n",
       "      <td>1.625000</td>\n",
       "      <td>7526</td>\n",
       "      <td>м</td>\n",
       "      <td>2015-01-20</td>\n",
       "      <td>2019-10-07</td>\n",
       "      <td>SHIFT 1</td>\n",
       "      <td>UNPACK</td>\n",
       "      <td>1973-06-16</td>\n",
       "      <td>100.0</td>\n",
       "      <td>2019-10-01</td>\n",
       "      <td>2015-01-01</td>\n",
       "      <td>0</td>\n",
       "      <td>0</td>\n",
       "    </tr>\n",
       "    <tr>\n",
       "      <th>3</th>\n",
       "      <td>2018-01-01</td>\n",
       "      <td>17538</td>\n",
       "      <td>PACK_IS</td>\n",
       "      <td>2.0</td>\n",
       "      <td>0.524397</td>\n",
       "      <td>12</td>\n",
       "      <td>-0.396514</td>\n",
       "      <td>0</td>\n",
       "      <td>0</td>\n",
       "      <td>0.875000</td>\n",
       "      <td>17538</td>\n",
       "      <td>ж</td>\n",
       "      <td>2017-11-21</td>\n",
       "      <td>NaT</td>\n",
       "      <td>SHIFT 1</td>\n",
       "      <td>PACK_IS</td>\n",
       "      <td>1965-01-14</td>\n",
       "      <td>7.0</td>\n",
       "      <td>NaT</td>\n",
       "      <td>2017-11-01</td>\n",
       "      <td>0</td>\n",
       "      <td>0</td>\n",
       "    </tr>\n",
       "    <tr>\n",
       "      <th>5</th>\n",
       "      <td>2018-01-01</td>\n",
       "      <td>7604</td>\n",
       "      <td>PREMIUM</td>\n",
       "      <td>0.0</td>\n",
       "      <td>0.987461</td>\n",
       "      <td>12</td>\n",
       "      <td>0.027932</td>\n",
       "      <td>0</td>\n",
       "      <td>0</td>\n",
       "      <td>0.772727</td>\n",
       "      <td>7604</td>\n",
       "      <td>ж</td>\n",
       "      <td>2015-02-01</td>\n",
       "      <td>NaT</td>\n",
       "      <td>SHIFT х</td>\n",
       "      <td>RETURNS_GROUP</td>\n",
       "      <td>1963-12-04</td>\n",
       "      <td>18.0</td>\n",
       "      <td>NaT</td>\n",
       "      <td>2015-02-01</td>\n",
       "      <td>0</td>\n",
       "      <td>0</td>\n",
       "    </tr>\n",
       "  </tbody>\n",
       "</table>\n",
       "</div>"
      ],
      "text/plain": [
       "       Month Table #  Process  # of mistakes  Fact productivity  Period  \\\n",
       "0 2018-01-01   15944  PACK_IS            1.0           0.825679      12   \n",
       "1 2018-01-01   14446  PACK_IS            0.0           1.099108      12   \n",
       "2 2018-01-01    7526   UNPACK            1.0           0.000000      12   \n",
       "3 2018-01-01   17538  PACK_IS            2.0           0.524397      12   \n",
       "5 2018-01-01    7604  PREMIUM            0.0           0.987461      12   \n",
       "\n",
       "   Salary vs Last salary  Vacation  Sick    Worked Employee ID Gender  \\\n",
       "0              -0.332988         0     0  0.715909       15944      ж   \n",
       "1              -0.134292         0     0  0.750000       14446      ж   \n",
       "2               0.000000         0     0  1.625000        7526      м   \n",
       "3              -0.396514         0     0  0.875000       17538      ж   \n",
       "5               0.027932         0     0  0.772727        7604      ж   \n",
       "\n",
       "  Start date  Quit date    SHIFT           Area   Birthday  Distance  \\\n",
       "0 2017-08-01 2018-05-31  SHIFT 1        PACK_IS 1969-12-16      18.0   \n",
       "1 2017-02-14 2018-08-28  SHIFT 1        PACK_IS 1986-10-17      25.0   \n",
       "2 2015-01-20 2019-10-07  SHIFT 1         UNPACK 1973-06-16     100.0   \n",
       "3 2017-11-21        NaT  SHIFT 1        PACK_IS 1965-01-14       7.0   \n",
       "5 2015-02-01        NaT  SHIFT х  RETURNS_GROUP 1963-12-04      18.0   \n",
       "\n",
       "  Quit_month Start_month  Leaver  Newcommer  \n",
       "0 2018-05-01  2017-08-01       0          0  \n",
       "1 2018-08-01  2017-02-01       0          0  \n",
       "2 2019-10-01  2015-01-01       0          0  \n",
       "3        NaT  2017-11-01       0          0  \n",
       "5        NaT  2015-02-01       0          0  "
      ]
     },
     "execution_count": 10,
     "metadata": {},
     "output_type": "execute_result"
    }
   ],
   "source": [
    "data_m.head()"
   ]
  },
  {
   "cell_type": "code",
   "execution_count": 11,
   "metadata": {},
   "outputs": [],
   "source": [
    "#Создаем переменную, которыа отвечает за послеующий месяц\n",
    "data_m['Period_2']=data_m['Period']+1"
   ]
  },
  {
   "cell_type": "code",
   "execution_count": 12,
   "metadata": {},
   "outputs": [],
   "source": [
    "#Совмещаем таблицы, чтобы знать уволится сотрудник или нет на основании данных предыдущего месяца\n",
    "data=data_m.merge(data_m[['Table #','Leaver','Period']], how='inner',left_on=['Table #','Period_2'], right_on=['Table #','Period'])"
   ]
  },
  {
   "cell_type": "code",
   "execution_count": 13,
   "metadata": {},
   "outputs": [
    {
     "data": {
      "text/html": [
       "<div>\n",
       "<style scoped>\n",
       "    .dataframe tbody tr th:only-of-type {\n",
       "        vertical-align: middle;\n",
       "    }\n",
       "\n",
       "    .dataframe tbody tr th {\n",
       "        vertical-align: top;\n",
       "    }\n",
       "\n",
       "    .dataframe thead th {\n",
       "        text-align: right;\n",
       "    }\n",
       "</style>\n",
       "<table border=\"1\" class=\"dataframe\">\n",
       "  <thead>\n",
       "    <tr style=\"text-align: right;\">\n",
       "      <th></th>\n",
       "      <th>Month</th>\n",
       "      <th>Table #</th>\n",
       "      <th>Process</th>\n",
       "      <th># of mistakes</th>\n",
       "      <th>Fact productivity</th>\n",
       "      <th>Period_x</th>\n",
       "      <th>Salary vs Last salary</th>\n",
       "      <th>Vacation</th>\n",
       "      <th>Sick</th>\n",
       "      <th>Worked</th>\n",
       "      <th>Employee ID</th>\n",
       "      <th>Gender</th>\n",
       "      <th>Start date</th>\n",
       "      <th>Quit date</th>\n",
       "      <th>SHIFT</th>\n",
       "      <th>Area</th>\n",
       "      <th>Birthday</th>\n",
       "      <th>Distance</th>\n",
       "      <th>Quit_month</th>\n",
       "      <th>Start_month</th>\n",
       "      <th>Leaver_x</th>\n",
       "      <th>Newcommer</th>\n",
       "      <th>Period_2</th>\n",
       "      <th>Leaver_y</th>\n",
       "      <th>Period_y</th>\n",
       "    </tr>\n",
       "  </thead>\n",
       "  <tbody>\n",
       "    <tr>\n",
       "      <th>0</th>\n",
       "      <td>2018-01-01</td>\n",
       "      <td>15944</td>\n",
       "      <td>PACK_IS</td>\n",
       "      <td>1.0</td>\n",
       "      <td>0.825679</td>\n",
       "      <td>12</td>\n",
       "      <td>-0.332988</td>\n",
       "      <td>0</td>\n",
       "      <td>0</td>\n",
       "      <td>0.715909</td>\n",
       "      <td>15944</td>\n",
       "      <td>ж</td>\n",
       "      <td>2017-08-01</td>\n",
       "      <td>2018-05-31</td>\n",
       "      <td>SHIFT 1</td>\n",
       "      <td>PACK_IS</td>\n",
       "      <td>1969-12-16</td>\n",
       "      <td>18.0</td>\n",
       "      <td>2018-05-01</td>\n",
       "      <td>2017-08-01</td>\n",
       "      <td>0</td>\n",
       "      <td>0</td>\n",
       "      <td>13</td>\n",
       "      <td>0</td>\n",
       "      <td>13</td>\n",
       "    </tr>\n",
       "    <tr>\n",
       "      <th>1</th>\n",
       "      <td>2018-01-01</td>\n",
       "      <td>14446</td>\n",
       "      <td>PACK_IS</td>\n",
       "      <td>0.0</td>\n",
       "      <td>1.099108</td>\n",
       "      <td>12</td>\n",
       "      <td>-0.134292</td>\n",
       "      <td>0</td>\n",
       "      <td>0</td>\n",
       "      <td>0.750000</td>\n",
       "      <td>14446</td>\n",
       "      <td>ж</td>\n",
       "      <td>2017-02-14</td>\n",
       "      <td>2018-08-28</td>\n",
       "      <td>SHIFT 1</td>\n",
       "      <td>PACK_IS</td>\n",
       "      <td>1986-10-17</td>\n",
       "      <td>25.0</td>\n",
       "      <td>2018-08-01</td>\n",
       "      <td>2017-02-01</td>\n",
       "      <td>0</td>\n",
       "      <td>0</td>\n",
       "      <td>13</td>\n",
       "      <td>0</td>\n",
       "      <td>13</td>\n",
       "    </tr>\n",
       "    <tr>\n",
       "      <th>3</th>\n",
       "      <td>2018-01-01</td>\n",
       "      <td>17538</td>\n",
       "      <td>PACK_IS</td>\n",
       "      <td>2.0</td>\n",
       "      <td>0.524397</td>\n",
       "      <td>12</td>\n",
       "      <td>-0.396514</td>\n",
       "      <td>0</td>\n",
       "      <td>0</td>\n",
       "      <td>0.875000</td>\n",
       "      <td>17538</td>\n",
       "      <td>ж</td>\n",
       "      <td>2017-11-21</td>\n",
       "      <td>NaT</td>\n",
       "      <td>SHIFT 1</td>\n",
       "      <td>PACK_IS</td>\n",
       "      <td>1965-01-14</td>\n",
       "      <td>7.0</td>\n",
       "      <td>NaT</td>\n",
       "      <td>2017-11-01</td>\n",
       "      <td>0</td>\n",
       "      <td>0</td>\n",
       "      <td>13</td>\n",
       "      <td>0</td>\n",
       "      <td>13</td>\n",
       "    </tr>\n",
       "    <tr>\n",
       "      <th>4</th>\n",
       "      <td>2018-01-01</td>\n",
       "      <td>7604</td>\n",
       "      <td>PREMIUM</td>\n",
       "      <td>0.0</td>\n",
       "      <td>0.987461</td>\n",
       "      <td>12</td>\n",
       "      <td>0.027932</td>\n",
       "      <td>0</td>\n",
       "      <td>0</td>\n",
       "      <td>0.772727</td>\n",
       "      <td>7604</td>\n",
       "      <td>ж</td>\n",
       "      <td>2015-02-01</td>\n",
       "      <td>NaT</td>\n",
       "      <td>SHIFT х</td>\n",
       "      <td>RETURNS_GROUP</td>\n",
       "      <td>1963-12-04</td>\n",
       "      <td>18.0</td>\n",
       "      <td>NaT</td>\n",
       "      <td>2015-02-01</td>\n",
       "      <td>0</td>\n",
       "      <td>0</td>\n",
       "      <td>13</td>\n",
       "      <td>0</td>\n",
       "      <td>13</td>\n",
       "    </tr>\n",
       "    <tr>\n",
       "      <th>5</th>\n",
       "      <td>2018-01-01</td>\n",
       "      <td>15930</td>\n",
       "      <td>PACK_IS</td>\n",
       "      <td>0.0</td>\n",
       "      <td>0.860234</td>\n",
       "      <td>12</td>\n",
       "      <td>-0.449859</td>\n",
       "      <td>0</td>\n",
       "      <td>0</td>\n",
       "      <td>0.687500</td>\n",
       "      <td>15930</td>\n",
       "      <td>ж</td>\n",
       "      <td>2017-08-01</td>\n",
       "      <td>NaT</td>\n",
       "      <td>SHIFT 1</td>\n",
       "      <td>PACK_IS</td>\n",
       "      <td>1986-03-31</td>\n",
       "      <td>7.0</td>\n",
       "      <td>NaT</td>\n",
       "      <td>2017-08-01</td>\n",
       "      <td>0</td>\n",
       "      <td>0</td>\n",
       "      <td>13</td>\n",
       "      <td>0</td>\n",
       "      <td>13</td>\n",
       "    </tr>\n",
       "  </tbody>\n",
       "</table>\n",
       "</div>"
      ],
      "text/plain": [
       "       Month Table #  Process  # of mistakes  Fact productivity  Period_x  \\\n",
       "0 2018-01-01   15944  PACK_IS            1.0           0.825679        12   \n",
       "1 2018-01-01   14446  PACK_IS            0.0           1.099108        12   \n",
       "3 2018-01-01   17538  PACK_IS            2.0           0.524397        12   \n",
       "4 2018-01-01    7604  PREMIUM            0.0           0.987461        12   \n",
       "5 2018-01-01   15930  PACK_IS            0.0           0.860234        12   \n",
       "\n",
       "   Salary vs Last salary  Vacation  Sick    Worked Employee ID Gender  \\\n",
       "0              -0.332988         0     0  0.715909       15944      ж   \n",
       "1              -0.134292         0     0  0.750000       14446      ж   \n",
       "3              -0.396514         0     0  0.875000       17538      ж   \n",
       "4               0.027932         0     0  0.772727        7604      ж   \n",
       "5              -0.449859         0     0  0.687500       15930      ж   \n",
       "\n",
       "  Start date  Quit date    SHIFT           Area   Birthday  Distance  \\\n",
       "0 2017-08-01 2018-05-31  SHIFT 1        PACK_IS 1969-12-16      18.0   \n",
       "1 2017-02-14 2018-08-28  SHIFT 1        PACK_IS 1986-10-17      25.0   \n",
       "3 2017-11-21        NaT  SHIFT 1        PACK_IS 1965-01-14       7.0   \n",
       "4 2015-02-01        NaT  SHIFT х  RETURNS_GROUP 1963-12-04      18.0   \n",
       "5 2017-08-01        NaT  SHIFT 1        PACK_IS 1986-03-31       7.0   \n",
       "\n",
       "  Quit_month Start_month  Leaver_x  Newcommer  Period_2  Leaver_y  Period_y  \n",
       "0 2018-05-01  2017-08-01         0          0        13         0        13  \n",
       "1 2018-08-01  2017-02-01         0          0        13         0        13  \n",
       "3        NaT  2017-11-01         0          0        13         0        13  \n",
       "4        NaT  2015-02-01         0          0        13         0        13  \n",
       "5        NaT  2017-08-01         0          0        13         0        13  "
      ]
     },
     "execution_count": 13,
     "metadata": {},
     "output_type": "execute_result"
    }
   ],
   "source": [
    "#Убираем тех сотрудников, которые работы на процессах, где не исчесляется продуктивность\n",
    "data=data[data['Fact productivity']!=0].copy()\n",
    "data.head()"
   ]
  },
  {
   "cell_type": "code",
   "execution_count": 14,
   "metadata": {},
   "outputs": [],
   "source": [
    "#убираем данные по периоду 0, так как для него не известно, что было в предыдущем месяце\n",
    "data=data[data['Period_x']!=0].copy()"
   ]
  },
  {
   "cell_type": "code",
   "execution_count": 15,
   "metadata": {},
   "outputs": [
    {
     "data": {
      "text/html": [
       "<div>\n",
       "<style scoped>\n",
       "    .dataframe tbody tr th:only-of-type {\n",
       "        vertical-align: middle;\n",
       "    }\n",
       "\n",
       "    .dataframe tbody tr th {\n",
       "        vertical-align: top;\n",
       "    }\n",
       "\n",
       "    .dataframe thead th {\n",
       "        text-align: right;\n",
       "    }\n",
       "</style>\n",
       "<table border=\"1\" class=\"dataframe\">\n",
       "  <thead>\n",
       "    <tr style=\"text-align: right;\">\n",
       "      <th></th>\n",
       "      <th>Month</th>\n",
       "      <th>Table #</th>\n",
       "      <th>Process</th>\n",
       "      <th># of mistakes</th>\n",
       "      <th>Fact productivity</th>\n",
       "      <th>Period_x</th>\n",
       "      <th>Salary vs Last salary</th>\n",
       "      <th>Vacation</th>\n",
       "      <th>Sick</th>\n",
       "      <th>Worked</th>\n",
       "      <th>Employee ID</th>\n",
       "      <th>Gender</th>\n",
       "      <th>Start date</th>\n",
       "      <th>Quit date</th>\n",
       "      <th>SHIFT</th>\n",
       "      <th>Area</th>\n",
       "      <th>Birthday</th>\n",
       "      <th>Distance</th>\n",
       "      <th>Quit_month</th>\n",
       "      <th>Start_month</th>\n",
       "      <th>Leaver_x</th>\n",
       "      <th>Newcommer</th>\n",
       "      <th>Period_2</th>\n",
       "      <th>Leaver_y</th>\n",
       "      <th>Period_y</th>\n",
       "      <th>Month end</th>\n",
       "    </tr>\n",
       "  </thead>\n",
       "  <tbody>\n",
       "    <tr>\n",
       "      <th>0</th>\n",
       "      <td>2018-01-01</td>\n",
       "      <td>15944</td>\n",
       "      <td>PACK_IS</td>\n",
       "      <td>1.0</td>\n",
       "      <td>0.825679</td>\n",
       "      <td>12</td>\n",
       "      <td>-0.332988</td>\n",
       "      <td>0</td>\n",
       "      <td>0</td>\n",
       "      <td>0.715909</td>\n",
       "      <td>15944</td>\n",
       "      <td>ж</td>\n",
       "      <td>2017-08-01</td>\n",
       "      <td>2018-05-31</td>\n",
       "      <td>SHIFT 1</td>\n",
       "      <td>PACK_IS</td>\n",
       "      <td>1969-12-16</td>\n",
       "      <td>18.0</td>\n",
       "      <td>2018-05-01</td>\n",
       "      <td>2017-08-01</td>\n",
       "      <td>0</td>\n",
       "      <td>0</td>\n",
       "      <td>13</td>\n",
       "      <td>0</td>\n",
       "      <td>13</td>\n",
       "      <td>2018-02-01</td>\n",
       "    </tr>\n",
       "    <tr>\n",
       "      <th>1</th>\n",
       "      <td>2018-01-01</td>\n",
       "      <td>14446</td>\n",
       "      <td>PACK_IS</td>\n",
       "      <td>0.0</td>\n",
       "      <td>1.099108</td>\n",
       "      <td>12</td>\n",
       "      <td>-0.134292</td>\n",
       "      <td>0</td>\n",
       "      <td>0</td>\n",
       "      <td>0.750000</td>\n",
       "      <td>14446</td>\n",
       "      <td>ж</td>\n",
       "      <td>2017-02-14</td>\n",
       "      <td>2018-08-28</td>\n",
       "      <td>SHIFT 1</td>\n",
       "      <td>PACK_IS</td>\n",
       "      <td>1986-10-17</td>\n",
       "      <td>25.0</td>\n",
       "      <td>2018-08-01</td>\n",
       "      <td>2017-02-01</td>\n",
       "      <td>0</td>\n",
       "      <td>0</td>\n",
       "      <td>13</td>\n",
       "      <td>0</td>\n",
       "      <td>13</td>\n",
       "      <td>2018-02-01</td>\n",
       "    </tr>\n",
       "    <tr>\n",
       "      <th>3</th>\n",
       "      <td>2018-01-01</td>\n",
       "      <td>17538</td>\n",
       "      <td>PACK_IS</td>\n",
       "      <td>2.0</td>\n",
       "      <td>0.524397</td>\n",
       "      <td>12</td>\n",
       "      <td>-0.396514</td>\n",
       "      <td>0</td>\n",
       "      <td>0</td>\n",
       "      <td>0.875000</td>\n",
       "      <td>17538</td>\n",
       "      <td>ж</td>\n",
       "      <td>2017-11-21</td>\n",
       "      <td>NaT</td>\n",
       "      <td>SHIFT 1</td>\n",
       "      <td>PACK_IS</td>\n",
       "      <td>1965-01-14</td>\n",
       "      <td>7.0</td>\n",
       "      <td>NaT</td>\n",
       "      <td>2017-11-01</td>\n",
       "      <td>0</td>\n",
       "      <td>0</td>\n",
       "      <td>13</td>\n",
       "      <td>0</td>\n",
       "      <td>13</td>\n",
       "      <td>2018-02-01</td>\n",
       "    </tr>\n",
       "    <tr>\n",
       "      <th>4</th>\n",
       "      <td>2018-01-01</td>\n",
       "      <td>7604</td>\n",
       "      <td>PREMIUM</td>\n",
       "      <td>0.0</td>\n",
       "      <td>0.987461</td>\n",
       "      <td>12</td>\n",
       "      <td>0.027932</td>\n",
       "      <td>0</td>\n",
       "      <td>0</td>\n",
       "      <td>0.772727</td>\n",
       "      <td>7604</td>\n",
       "      <td>ж</td>\n",
       "      <td>2015-02-01</td>\n",
       "      <td>NaT</td>\n",
       "      <td>SHIFT х</td>\n",
       "      <td>RETURNS_GROUP</td>\n",
       "      <td>1963-12-04</td>\n",
       "      <td>18.0</td>\n",
       "      <td>NaT</td>\n",
       "      <td>2015-02-01</td>\n",
       "      <td>0</td>\n",
       "      <td>0</td>\n",
       "      <td>13</td>\n",
       "      <td>0</td>\n",
       "      <td>13</td>\n",
       "      <td>2018-02-01</td>\n",
       "    </tr>\n",
       "    <tr>\n",
       "      <th>5</th>\n",
       "      <td>2018-01-01</td>\n",
       "      <td>15930</td>\n",
       "      <td>PACK_IS</td>\n",
       "      <td>0.0</td>\n",
       "      <td>0.860234</td>\n",
       "      <td>12</td>\n",
       "      <td>-0.449859</td>\n",
       "      <td>0</td>\n",
       "      <td>0</td>\n",
       "      <td>0.687500</td>\n",
       "      <td>15930</td>\n",
       "      <td>ж</td>\n",
       "      <td>2017-08-01</td>\n",
       "      <td>NaT</td>\n",
       "      <td>SHIFT 1</td>\n",
       "      <td>PACK_IS</td>\n",
       "      <td>1986-03-31</td>\n",
       "      <td>7.0</td>\n",
       "      <td>NaT</td>\n",
       "      <td>2017-08-01</td>\n",
       "      <td>0</td>\n",
       "      <td>0</td>\n",
       "      <td>13</td>\n",
       "      <td>0</td>\n",
       "      <td>13</td>\n",
       "      <td>2018-02-01</td>\n",
       "    </tr>\n",
       "  </tbody>\n",
       "</table>\n",
       "</div>"
      ],
      "text/plain": [
       "       Month Table #  Process  # of mistakes  Fact productivity  Period_x  \\\n",
       "0 2018-01-01   15944  PACK_IS            1.0           0.825679        12   \n",
       "1 2018-01-01   14446  PACK_IS            0.0           1.099108        12   \n",
       "3 2018-01-01   17538  PACK_IS            2.0           0.524397        12   \n",
       "4 2018-01-01    7604  PREMIUM            0.0           0.987461        12   \n",
       "5 2018-01-01   15930  PACK_IS            0.0           0.860234        12   \n",
       "\n",
       "   Salary vs Last salary  Vacation  Sick    Worked Employee ID Gender  \\\n",
       "0              -0.332988         0     0  0.715909       15944      ж   \n",
       "1              -0.134292         0     0  0.750000       14446      ж   \n",
       "3              -0.396514         0     0  0.875000       17538      ж   \n",
       "4               0.027932         0     0  0.772727        7604      ж   \n",
       "5              -0.449859         0     0  0.687500       15930      ж   \n",
       "\n",
       "  Start date  Quit date    SHIFT           Area   Birthday  Distance  \\\n",
       "0 2017-08-01 2018-05-31  SHIFT 1        PACK_IS 1969-12-16      18.0   \n",
       "1 2017-02-14 2018-08-28  SHIFT 1        PACK_IS 1986-10-17      25.0   \n",
       "3 2017-11-21        NaT  SHIFT 1        PACK_IS 1965-01-14       7.0   \n",
       "4 2015-02-01        NaT  SHIFT х  RETURNS_GROUP 1963-12-04      18.0   \n",
       "5 2017-08-01        NaT  SHIFT 1        PACK_IS 1986-03-31       7.0   \n",
       "\n",
       "  Quit_month Start_month  Leaver_x  Newcommer  Period_2  Leaver_y  Period_y  \\\n",
       "0 2018-05-01  2017-08-01         0          0        13         0        13   \n",
       "1 2018-08-01  2017-02-01         0          0        13         0        13   \n",
       "3        NaT  2017-11-01         0          0        13         0        13   \n",
       "4        NaT  2015-02-01         0          0        13         0        13   \n",
       "5        NaT  2017-08-01         0          0        13         0        13   \n",
       "\n",
       "   Month end  \n",
       "0 2018-02-01  \n",
       "1 2018-02-01  \n",
       "3 2018-02-01  \n",
       "4 2018-02-01  \n",
       "5 2018-02-01  "
      ]
     },
     "execution_count": 15,
     "metadata": {},
     "output_type": "execute_result"
    }
   ],
   "source": [
    "#Добавляем переменную - конец месяца для опеределения опыта работы сотрудника\n",
    "from pandas.tseries.offsets import DateOffset\n",
    "data['Month end']=data['Month'] + DateOffset(months=1)\n",
    "data.head()"
   ]
  },
  {
   "cell_type": "code",
   "execution_count": 16,
   "metadata": {},
   "outputs": [],
   "source": [
    "#добавляем переменную опыыта рабоыт сотрудника\n",
    "data['Tenure']=data['Month end']-data['Start date']\n",
    "data['Tenure']=data['Tenure']/np.timedelta64(1,'D')"
   ]
  },
  {
   "cell_type": "code",
   "execution_count": 17,
   "metadata": {},
   "outputs": [
    {
     "data": {
      "text/plain": [
       "211"
      ]
     },
     "execution_count": 17,
     "metadata": {},
     "output_type": "execute_result"
    }
   ],
   "source": [
    "#Вычисляем сотрудников, у которых не заполнены поля Дата рождения и дистанция от дома\n",
    "data[data['Birthday'].isnull()]['Table #'].nunique()"
   ]
  },
  {
   "cell_type": "code",
   "execution_count": 18,
   "metadata": {},
   "outputs": [
    {
     "data": {
      "text/plain": [
       "244"
      ]
     },
     "execution_count": 18,
     "metadata": {},
     "output_type": "execute_result"
    }
   ],
   "source": [
    "data[data['Distance'].isnull()]['Table #'].nunique()"
   ]
  },
  {
   "cell_type": "code",
   "execution_count": 19,
   "metadata": {},
   "outputs": [],
   "source": [
    "#Создаем переменную, показывающую возраст на момент рассматриваемого месяца\n",
    "from datetime import timedelta\n",
    "data['Age'] = data['Month'] - data['Birthday']\n",
    "data['Age']  = data['Age']  / timedelta(days=365)"
   ]
  },
  {
   "cell_type": "code",
   "execution_count": 20,
   "metadata": {},
   "outputs": [
    {
     "data": {
      "text/html": [
       "<div>\n",
       "<style scoped>\n",
       "    .dataframe tbody tr th:only-of-type {\n",
       "        vertical-align: middle;\n",
       "    }\n",
       "\n",
       "    .dataframe tbody tr th {\n",
       "        vertical-align: top;\n",
       "    }\n",
       "\n",
       "    .dataframe thead th {\n",
       "        text-align: right;\n",
       "    }\n",
       "</style>\n",
       "<table border=\"1\" class=\"dataframe\">\n",
       "  <thead>\n",
       "    <tr style=\"text-align: right;\">\n",
       "      <th></th>\n",
       "      <th>Month</th>\n",
       "      <th>Table #</th>\n",
       "      <th>Process</th>\n",
       "      <th># of mistakes</th>\n",
       "      <th>Fact productivity</th>\n",
       "      <th>Period_x</th>\n",
       "      <th>Salary vs Last salary</th>\n",
       "      <th>Vacation</th>\n",
       "      <th>Sick</th>\n",
       "      <th>Worked</th>\n",
       "      <th>Employee ID</th>\n",
       "      <th>Gender</th>\n",
       "      <th>Start date</th>\n",
       "      <th>Quit date</th>\n",
       "      <th>SHIFT</th>\n",
       "      <th>Area</th>\n",
       "      <th>Birthday</th>\n",
       "      <th>Distance</th>\n",
       "      <th>Quit_month</th>\n",
       "      <th>Start_month</th>\n",
       "      <th>Leaver_x</th>\n",
       "      <th>Newcommer</th>\n",
       "      <th>Period_2</th>\n",
       "      <th>Leaver_y</th>\n",
       "      <th>Period_y</th>\n",
       "      <th>Month end</th>\n",
       "      <th>Tenure</th>\n",
       "      <th>Age</th>\n",
       "    </tr>\n",
       "  </thead>\n",
       "  <tbody>\n",
       "    <tr>\n",
       "      <th>0</th>\n",
       "      <td>2018-01-01</td>\n",
       "      <td>15944</td>\n",
       "      <td>PACK_IS</td>\n",
       "      <td>1.0</td>\n",
       "      <td>0.825679</td>\n",
       "      <td>12</td>\n",
       "      <td>-0.332988</td>\n",
       "      <td>0</td>\n",
       "      <td>0</td>\n",
       "      <td>0.715909</td>\n",
       "      <td>15944</td>\n",
       "      <td>ж</td>\n",
       "      <td>2017-08-01</td>\n",
       "      <td>2018-05-31</td>\n",
       "      <td>SHIFT 1</td>\n",
       "      <td>PACK_IS</td>\n",
       "      <td>1969-12-16</td>\n",
       "      <td>18.0</td>\n",
       "      <td>2018-05-01</td>\n",
       "      <td>2017-08-01</td>\n",
       "      <td>0</td>\n",
       "      <td>0</td>\n",
       "      <td>13</td>\n",
       "      <td>0</td>\n",
       "      <td>13</td>\n",
       "      <td>2018-02-01</td>\n",
       "      <td>184.0</td>\n",
       "      <td>48.076712</td>\n",
       "    </tr>\n",
       "    <tr>\n",
       "      <th>1</th>\n",
       "      <td>2018-01-01</td>\n",
       "      <td>14446</td>\n",
       "      <td>PACK_IS</td>\n",
       "      <td>0.0</td>\n",
       "      <td>1.099108</td>\n",
       "      <td>12</td>\n",
       "      <td>-0.134292</td>\n",
       "      <td>0</td>\n",
       "      <td>0</td>\n",
       "      <td>0.750000</td>\n",
       "      <td>14446</td>\n",
       "      <td>ж</td>\n",
       "      <td>2017-02-14</td>\n",
       "      <td>2018-08-28</td>\n",
       "      <td>SHIFT 1</td>\n",
       "      <td>PACK_IS</td>\n",
       "      <td>1986-10-17</td>\n",
       "      <td>25.0</td>\n",
       "      <td>2018-08-01</td>\n",
       "      <td>2017-02-01</td>\n",
       "      <td>0</td>\n",
       "      <td>0</td>\n",
       "      <td>13</td>\n",
       "      <td>0</td>\n",
       "      <td>13</td>\n",
       "      <td>2018-02-01</td>\n",
       "      <td>352.0</td>\n",
       "      <td>31.230137</td>\n",
       "    </tr>\n",
       "    <tr>\n",
       "      <th>3</th>\n",
       "      <td>2018-01-01</td>\n",
       "      <td>17538</td>\n",
       "      <td>PACK_IS</td>\n",
       "      <td>2.0</td>\n",
       "      <td>0.524397</td>\n",
       "      <td>12</td>\n",
       "      <td>-0.396514</td>\n",
       "      <td>0</td>\n",
       "      <td>0</td>\n",
       "      <td>0.875000</td>\n",
       "      <td>17538</td>\n",
       "      <td>ж</td>\n",
       "      <td>2017-11-21</td>\n",
       "      <td>NaT</td>\n",
       "      <td>SHIFT 1</td>\n",
       "      <td>PACK_IS</td>\n",
       "      <td>1965-01-14</td>\n",
       "      <td>7.0</td>\n",
       "      <td>NaT</td>\n",
       "      <td>2017-11-01</td>\n",
       "      <td>0</td>\n",
       "      <td>0</td>\n",
       "      <td>13</td>\n",
       "      <td>0</td>\n",
       "      <td>13</td>\n",
       "      <td>2018-02-01</td>\n",
       "      <td>72.0</td>\n",
       "      <td>53.000000</td>\n",
       "    </tr>\n",
       "    <tr>\n",
       "      <th>4</th>\n",
       "      <td>2018-01-01</td>\n",
       "      <td>7604</td>\n",
       "      <td>PREMIUM</td>\n",
       "      <td>0.0</td>\n",
       "      <td>0.987461</td>\n",
       "      <td>12</td>\n",
       "      <td>0.027932</td>\n",
       "      <td>0</td>\n",
       "      <td>0</td>\n",
       "      <td>0.772727</td>\n",
       "      <td>7604</td>\n",
       "      <td>ж</td>\n",
       "      <td>2015-02-01</td>\n",
       "      <td>NaT</td>\n",
       "      <td>SHIFT х</td>\n",
       "      <td>RETURNS_GROUP</td>\n",
       "      <td>1963-12-04</td>\n",
       "      <td>18.0</td>\n",
       "      <td>NaT</td>\n",
       "      <td>2015-02-01</td>\n",
       "      <td>0</td>\n",
       "      <td>0</td>\n",
       "      <td>13</td>\n",
       "      <td>0</td>\n",
       "      <td>13</td>\n",
       "      <td>2018-02-01</td>\n",
       "      <td>1096.0</td>\n",
       "      <td>54.115068</td>\n",
       "    </tr>\n",
       "    <tr>\n",
       "      <th>5</th>\n",
       "      <td>2018-01-01</td>\n",
       "      <td>15930</td>\n",
       "      <td>PACK_IS</td>\n",
       "      <td>0.0</td>\n",
       "      <td>0.860234</td>\n",
       "      <td>12</td>\n",
       "      <td>-0.449859</td>\n",
       "      <td>0</td>\n",
       "      <td>0</td>\n",
       "      <td>0.687500</td>\n",
       "      <td>15930</td>\n",
       "      <td>ж</td>\n",
       "      <td>2017-08-01</td>\n",
       "      <td>NaT</td>\n",
       "      <td>SHIFT 1</td>\n",
       "      <td>PACK_IS</td>\n",
       "      <td>1986-03-31</td>\n",
       "      <td>7.0</td>\n",
       "      <td>NaT</td>\n",
       "      <td>2017-08-01</td>\n",
       "      <td>0</td>\n",
       "      <td>0</td>\n",
       "      <td>13</td>\n",
       "      <td>0</td>\n",
       "      <td>13</td>\n",
       "      <td>2018-02-01</td>\n",
       "      <td>184.0</td>\n",
       "      <td>31.778082</td>\n",
       "    </tr>\n",
       "  </tbody>\n",
       "</table>\n",
       "</div>"
      ],
      "text/plain": [
       "       Month Table #  Process  # of mistakes  Fact productivity  Period_x  \\\n",
       "0 2018-01-01   15944  PACK_IS            1.0           0.825679        12   \n",
       "1 2018-01-01   14446  PACK_IS            0.0           1.099108        12   \n",
       "3 2018-01-01   17538  PACK_IS            2.0           0.524397        12   \n",
       "4 2018-01-01    7604  PREMIUM            0.0           0.987461        12   \n",
       "5 2018-01-01   15930  PACK_IS            0.0           0.860234        12   \n",
       "\n",
       "   Salary vs Last salary  Vacation  Sick    Worked Employee ID Gender  \\\n",
       "0              -0.332988         0     0  0.715909       15944      ж   \n",
       "1              -0.134292         0     0  0.750000       14446      ж   \n",
       "3              -0.396514         0     0  0.875000       17538      ж   \n",
       "4               0.027932         0     0  0.772727        7604      ж   \n",
       "5              -0.449859         0     0  0.687500       15930      ж   \n",
       "\n",
       "  Start date  Quit date    SHIFT           Area   Birthday  Distance  \\\n",
       "0 2017-08-01 2018-05-31  SHIFT 1        PACK_IS 1969-12-16      18.0   \n",
       "1 2017-02-14 2018-08-28  SHIFT 1        PACK_IS 1986-10-17      25.0   \n",
       "3 2017-11-21        NaT  SHIFT 1        PACK_IS 1965-01-14       7.0   \n",
       "4 2015-02-01        NaT  SHIFT х  RETURNS_GROUP 1963-12-04      18.0   \n",
       "5 2017-08-01        NaT  SHIFT 1        PACK_IS 1986-03-31       7.0   \n",
       "\n",
       "  Quit_month Start_month  Leaver_x  Newcommer  Period_2  Leaver_y  Period_y  \\\n",
       "0 2018-05-01  2017-08-01         0          0        13         0        13   \n",
       "1 2018-08-01  2017-02-01         0          0        13         0        13   \n",
       "3        NaT  2017-11-01         0          0        13         0        13   \n",
       "4        NaT  2015-02-01         0          0        13         0        13   \n",
       "5        NaT  2017-08-01         0          0        13         0        13   \n",
       "\n",
       "   Month end  Tenure        Age  \n",
       "0 2018-02-01   184.0  48.076712  \n",
       "1 2018-02-01   352.0  31.230137  \n",
       "3 2018-02-01    72.0  53.000000  \n",
       "4 2018-02-01  1096.0  54.115068  \n",
       "5 2018-02-01   184.0  31.778082  "
      ]
     },
     "execution_count": 20,
     "metadata": {},
     "output_type": "execute_result"
    }
   ],
   "source": [
    "data.head()"
   ]
  },
  {
   "cell_type": "code",
   "execution_count": 21,
   "metadata": {},
   "outputs": [],
   "source": [
    "#Удаляем ненужные столбцы\n",
    "data.drop(columns=['Table #','Period_x','Employee ID','Start date','Quit date','Leaver_x','Newcommer','Area','Quit_month','Start_month','Period_2','Period_y','Month end','Birthday'], inplace=True)\n"
   ]
  },
  {
   "cell_type": "code",
   "execution_count": 22,
   "metadata": {},
   "outputs": [],
   "source": [
    "#Преобразовывем названия процессов\n",
    "data.loc[data['Process']=='PICK_V', 'Process'] = 'PICK'\n",
    "data.loc[data['Process']=='PUT_V', 'Process'] = 'PUT'\n",
    "data.loc[data['Process']=='RET_V', 'Process'] = 'RET'\n",
    "data.loc[data['Process']=='PACK', 'Process'] = 'PACK_MB'\n",
    "data.loc[data['Process']=='RETURNS_GROUP', 'Process'] = 'RET'\n",
    "data.loc[data['Process']=='INDITEX_STOCK', 'Process'] = 'INDITEX'\n",
    "data.loc[data['Process']=='INDITEX_PACKING', 'Process'] = 'INDITEX'\n",
    "data.loc[data['Process']=='INDITEX_LOADING', 'Process'] = 'INDITEX'\n",
    "data.loc[data['Process']=='JEWELRY', 'Process'] = 'PREMIUM'"
   ]
  },
  {
   "cell_type": "code",
   "execution_count": 23,
   "metadata": {},
   "outputs": [],
   "source": [
    "#Удаляем записи по дополительным процессам\n",
    "data=data[data['Process']!='INDITEX'].copy()"
   ]
  },
  {
   "cell_type": "code",
   "execution_count": 24,
   "metadata": {},
   "outputs": [],
   "source": [
    "data=data[data['Process']!='LOAD'].copy()\n",
    "data=data[data['Process']!='TROUB'].copy()"
   ]
  },
  {
   "cell_type": "code",
   "execution_count": 25,
   "metadata": {},
   "outputs": [],
   "source": [
    "#Рассматривает только сотрудников опыт работы которых больше 62 дней\n",
    "data=data[data['Tenure']>62].copy()"
   ]
  },
  {
   "cell_type": "code",
   "execution_count": 26,
   "metadata": {},
   "outputs": [
    {
     "data": {
      "text/plain": [
       "Month                      0\n",
       "Process                    0\n",
       "# of mistakes              0\n",
       "Fact productivity          0\n",
       "Salary vs Last salary      0\n",
       "Vacation                   0\n",
       "Sick                       0\n",
       "Worked                     0\n",
       "Gender                     0\n",
       "SHIFT                      0\n",
       "Distance                 187\n",
       "Leaver_y                   0\n",
       "Tenure                     0\n",
       "Age                       30\n",
       "dtype: int64"
      ]
     },
     "execution_count": 26,
     "metadata": {},
     "output_type": "execute_result"
    }
   ],
   "source": [
    "#смотрим пустые значения\n",
    "data.isnull().sum()"
   ]
  },
  {
   "cell_type": "code",
   "execution_count": 27,
   "metadata": {},
   "outputs": [],
   "source": [
    "#заплняем пустые значения AGE средним внутри группы Пол+Процесс\n",
    "data['Age']= data['Age'].fillna(data.groupby(['Gender','Process'])['Age'].transform('mean'))"
   ]
  },
  {
   "cell_type": "code",
   "execution_count": 28,
   "metadata": {},
   "outputs": [],
   "source": [
    "#заплняем пустые значения DISTANCE средним внутри группы Пол+Процесс\n",
    "data['Distance']= data['Distance'].fillna(data.groupby(['Gender','Process'])['Distance'].transform('mean'))"
   ]
  },
  {
   "cell_type": "code",
   "execution_count": 29,
   "metadata": {},
   "outputs": [],
   "source": [
    "#Переназываем целевой признак\n",
    "data.rename(columns={'Leaver_y':'Leaver'},inplace=True)"
   ]
  },
  {
   "cell_type": "markdown",
   "metadata": {},
   "source": [
    "# Analysis"
   ]
  },
  {
   "cell_type": "code",
   "execution_count": 30,
   "metadata": {},
   "outputs": [],
   "source": [
    "#Удаляем ненужный столбец\n",
    "data.drop(columns='Month',inplace=True)"
   ]
  },
  {
   "cell_type": "code",
   "execution_count": 31,
   "metadata": {},
   "outputs": [
    {
     "name": "stdout",
     "output_type": "stream",
     "text": [
      "Requirement already satisfied: plotly in c:\\users\\margarita.hahan\\appdata\\local\\continuum\\anaconda3\\lib\\site-packages (4.7.1)\n",
      "Requirement already satisfied: six in c:\\users\\margarita.hahan\\appdata\\local\\continuum\\anaconda3\\lib\\site-packages (from plotly) (1.12.0)\n",
      "Requirement already satisfied: retrying>=1.3.3 in c:\\users\\margarita.hahan\\appdata\\local\\continuum\\anaconda3\\lib\\site-packages (from plotly) (1.3.3)\n"
     ]
    }
   ],
   "source": [
    "#импорт модуля для визуализации данных\n",
    "import sys\n",
    "!{sys.executable} -m pip install plotly"
   ]
  },
  {
   "cell_type": "markdown",
   "metadata": {},
   "source": [
    "Leaver"
   ]
  },
  {
   "cell_type": "code",
   "execution_count": 44,
   "metadata": {},
   "outputs": [
    {
     "data": {
      "image/png": "[encoded data removed]",
      "text/plain": [
       "<Figure size 432x288 with 1 Axes>"
      ]
     },
     "metadata": {},
     "output_type": "display_data"
    }
   ],
   "source": [
    "#еще импорт модуля для визуализации данных\n",
    "import matplotlib.pyplot as plt\n",
    "import seaborn as sns\n",
    "sns.set(palette=\"Set2\")\n",
    "ax = sns.countplot(x=\"Leaver\", data=data)"
   ]
  },
  {
   "cell_type": "markdown",
   "metadata": {},
   "source": [
    "Process"
   ]
  },
  {
   "cell_type": "code",
   "execution_count": 33,
   "metadata": {},
   "outputs": [
    {
     "data": {
      "image/png": "[encoded data removed]",
      "text/plain": [
       "<Figure size 432x288 with 1 Axes>"
      ]
     },
     "metadata": {
      "needs_background": "light"
     },
     "output_type": "display_data"
    }
   ],
   "source": [
    "#Смотрим процессы по исследуемым классам\n",
    "ax = sns.countplot( y='Process', data=data.sort_values('Process'), hue='Leaver')"
   ]
  },
  {
   "cell_type": "code",
   "execution_count": 34,
   "metadata": {},
   "outputs": [
    {
     "data": {
      "text/html": [
       "<div>\n",
       "<style scoped>\n",
       "    .dataframe tbody tr th:only-of-type {\n",
       "        vertical-align: middle;\n",
       "    }\n",
       "\n",
       "    .dataframe tbody tr th {\n",
       "        vertical-align: top;\n",
       "    }\n",
       "\n",
       "    .dataframe thead th {\n",
       "        text-align: right;\n",
       "    }\n",
       "</style>\n",
       "<table border=\"1\" class=\"dataframe\">\n",
       "  <thead>\n",
       "    <tr style=\"text-align: right;\">\n",
       "      <th></th>\n",
       "      <th>Process</th>\n",
       "      <th>Leaver_x</th>\n",
       "      <th>Leaver_y</th>\n",
       "      <th>%, of all</th>\n",
       "    </tr>\n",
       "  </thead>\n",
       "  <tbody>\n",
       "    <tr>\n",
       "      <th>0</th>\n",
       "      <td>IN</td>\n",
       "      <td>61</td>\n",
       "      <td>1214</td>\n",
       "      <td>0.050247</td>\n",
       "    </tr>\n",
       "    <tr>\n",
       "      <th>1</th>\n",
       "      <td>INV</td>\n",
       "      <td>48</td>\n",
       "      <td>504</td>\n",
       "      <td>0.095238</td>\n",
       "    </tr>\n",
       "    <tr>\n",
       "      <th>2</th>\n",
       "      <td>PACK_IS</td>\n",
       "      <td>162</td>\n",
       "      <td>2311</td>\n",
       "      <td>0.070100</td>\n",
       "    </tr>\n",
       "    <tr>\n",
       "      <th>3</th>\n",
       "      <td>PACK_MB</td>\n",
       "      <td>87</td>\n",
       "      <td>1058</td>\n",
       "      <td>0.082231</td>\n",
       "    </tr>\n",
       "    <tr>\n",
       "      <th>4</th>\n",
       "      <td>PICK</td>\n",
       "      <td>87</td>\n",
       "      <td>845</td>\n",
       "      <td>0.102959</td>\n",
       "    </tr>\n",
       "    <tr>\n",
       "      <th>5</th>\n",
       "      <td>PREMIUM</td>\n",
       "      <td>56</td>\n",
       "      <td>928</td>\n",
       "      <td>0.060345</td>\n",
       "    </tr>\n",
       "    <tr>\n",
       "      <th>6</th>\n",
       "      <td>PUT</td>\n",
       "      <td>66</td>\n",
       "      <td>1264</td>\n",
       "      <td>0.052215</td>\n",
       "    </tr>\n",
       "    <tr>\n",
       "      <th>7</th>\n",
       "      <td>RET</td>\n",
       "      <td>148</td>\n",
       "      <td>2453</td>\n",
       "      <td>0.060334</td>\n",
       "    </tr>\n",
       "    <tr>\n",
       "      <th>8</th>\n",
       "      <td>SORT</td>\n",
       "      <td>28</td>\n",
       "      <td>430</td>\n",
       "      <td>0.065116</td>\n",
       "    </tr>\n",
       "    <tr>\n",
       "      <th>9</th>\n",
       "      <td>UNPACK</td>\n",
       "      <td>9</td>\n",
       "      <td>200</td>\n",
       "      <td>0.045000</td>\n",
       "    </tr>\n",
       "  </tbody>\n",
       "</table>\n",
       "</div>"
      ],
      "text/plain": [
       "   Process  Leaver_x  Leaver_y  %, of all\n",
       "0       IN        61      1214   0.050247\n",
       "1      INV        48       504   0.095238\n",
       "2  PACK_IS       162      2311   0.070100\n",
       "3  PACK_MB        87      1058   0.082231\n",
       "4     PICK        87       845   0.102959\n",
       "5  PREMIUM        56       928   0.060345\n",
       "6      PUT        66      1264   0.052215\n",
       "7      RET       148      2453   0.060334\n",
       "8     SORT        28       430   0.065116\n",
       "9   UNPACK         9       200   0.045000"
      ]
     },
     "execution_count": 34,
     "metadata": {},
     "output_type": "execute_result"
    }
   ],
   "source": [
    "data_pr=data[data['Leaver']==1].groupby('Process',as_index=False)['Leaver'].count().merge(data.groupby('Process',as_index=False)['Leaver'].count(),on='Process')\n",
    "\n",
    "data_pr['%, of all']=data_pr['Leaver_x']/data_pr['Leaver_y']\n",
    "data_pr"
   ]
  },
  {
   "cell_type": "code",
   "execution_count": 35,
   "metadata": {},
   "outputs": [
    {
     "data": {
      "image/png": "[encoded data removed]",
      "text/plain": [
       "<Figure size 432x288 with 1 Axes>"
      ]
     },
     "metadata": {
      "needs_background": "light"
     },
     "output_type": "display_data"
    }
   ],
   "source": [
    "\n",
    "ax = sns.barplot(y=\"Process\", x='%, of all',data=data_pr.sort_values('%, of all'))"
   ]
  },
  {
   "cell_type": "markdown",
   "metadata": {},
   "source": [
    "Shift"
   ]
  },
  {
   "cell_type": "code",
   "execution_count": 36,
   "metadata": {},
   "outputs": [
    {
     "data": {
      "image/png": "[encoded data removed]",
      "text/plain": [
       "<Figure size 432x288 with 1 Axes>"
      ]
     },
     "metadata": {
      "needs_background": "light"
     },
     "output_type": "display_data"
    }
   ],
   "source": [
    "\n",
    "ax = sns.countplot( y='SHIFT', data=data.sort_values('SHIFT'), hue='Leaver')"
   ]
  },
  {
   "cell_type": "code",
   "execution_count": 37,
   "metadata": {},
   "outputs": [
    {
     "data": {
      "text/html": [
       "<div>\n",
       "<style scoped>\n",
       "    .dataframe tbody tr th:only-of-type {\n",
       "        vertical-align: middle;\n",
       "    }\n",
       "\n",
       "    .dataframe tbody tr th {\n",
       "        vertical-align: top;\n",
       "    }\n",
       "\n",
       "    .dataframe thead th {\n",
       "        text-align: right;\n",
       "    }\n",
       "</style>\n",
       "<table border=\"1\" class=\"dataframe\">\n",
       "  <thead>\n",
       "    <tr style=\"text-align: right;\">\n",
       "      <th></th>\n",
       "      <th>SHIFT</th>\n",
       "      <th>Leaver_x</th>\n",
       "      <th>Leaver_y</th>\n",
       "      <th>%, of all</th>\n",
       "    </tr>\n",
       "  </thead>\n",
       "  <tbody>\n",
       "    <tr>\n",
       "      <th>0</th>\n",
       "      <td>SHIFT 1</td>\n",
       "      <td>157</td>\n",
       "      <td>2954</td>\n",
       "      <td>0.053148</td>\n",
       "    </tr>\n",
       "    <tr>\n",
       "      <th>1</th>\n",
       "      <td>SHIFT 2</td>\n",
       "      <td>195</td>\n",
       "      <td>2621</td>\n",
       "      <td>0.074399</td>\n",
       "    </tr>\n",
       "    <tr>\n",
       "      <th>2</th>\n",
       "      <td>SHIFT 3</td>\n",
       "      <td>189</td>\n",
       "      <td>2808</td>\n",
       "      <td>0.067308</td>\n",
       "    </tr>\n",
       "    <tr>\n",
       "      <th>3</th>\n",
       "      <td>SHIFT 4</td>\n",
       "      <td>208</td>\n",
       "      <td>2611</td>\n",
       "      <td>0.079663</td>\n",
       "    </tr>\n",
       "    <tr>\n",
       "      <th>4</th>\n",
       "      <td>SHIFT х</td>\n",
       "      <td>3</td>\n",
       "      <td>213</td>\n",
       "      <td>0.014085</td>\n",
       "    </tr>\n",
       "  </tbody>\n",
       "</table>\n",
       "</div>"
      ],
      "text/plain": [
       "     SHIFT  Leaver_x  Leaver_y  %, of all\n",
       "0  SHIFT 1       157      2954   0.053148\n",
       "1  SHIFT 2       195      2621   0.074399\n",
       "2  SHIFT 3       189      2808   0.067308\n",
       "3  SHIFT 4       208      2611   0.079663\n",
       "4  SHIFT х         3       213   0.014085"
      ]
     },
     "execution_count": 37,
     "metadata": {},
     "output_type": "execute_result"
    }
   ],
   "source": [
    "data_pr=data[data['Leaver']==1].groupby('SHIFT',as_index=False)['Leaver'].count().merge(data.groupby('SHIFT',as_index=False)['Leaver'].count(),on='SHIFT')\n",
    "\n",
    "data_pr['%, of all']=data_pr['Leaver_x']/data_pr['Leaver_y']\n",
    "data_pr"
   ]
  },
  {
   "cell_type": "code",
   "execution_count": 38,
   "metadata": {},
   "outputs": [
    {
     "data": {
      "image/png": "[encoded data removed]",
      "text/plain": [
       "<Figure size 432x288 with 1 Axes>"
      ]
     },
     "metadata": {
      "needs_background": "light"
     },
     "output_type": "display_data"
    }
   ],
   "source": [
    "ax = sns.barplot(y=\"SHIFT\", x='%, of all',data=data_pr.sort_values('%, of all'))"
   ]
  },
  {
   "cell_type": "markdown",
   "metadata": {},
   "source": [
    "Gender"
   ]
  },
  {
   "cell_type": "code",
   "execution_count": 39,
   "metadata": {},
   "outputs": [
    {
     "data": {
      "image/png": "[encoded data removed]",
      "text/plain": [
       "<Figure size 432x288 with 1 Axes>"
      ]
     },
     "metadata": {
      "needs_background": "light"
     },
     "output_type": "display_data"
    }
   ],
   "source": [
    "ax = sns.countplot( y='Gender', data=data.sort_values('Gender'), hue='Leaver')"
   ]
  },
  {
   "cell_type": "code",
   "execution_count": 40,
   "metadata": {},
   "outputs": [
    {
     "data": {
      "image/png": "[encoded data removed]",
      "text/plain": [
       "<Figure size 432x288 with 1 Axes>"
      ]
     },
     "metadata": {
      "needs_background": "light"
     },
     "output_type": "display_data"
    }
   ],
   "source": [
    "data_pr=data[data['Leaver']==1].groupby('Gender',as_index=False)['Leaver'].count().merge(data.groupby('Gender',as_index=False)['Leaver'].count(),on='Gender')\n",
    "\n",
    "data_pr['%, of all']=data_pr['Leaver_x']/data_pr['Leaver_y']\n",
    "ax = sns.barplot(y=\"Gender\", x='%, of all',data=data_pr.sort_values('%, of all'))"
   ]
  },
  {
   "cell_type": "code",
   "execution_count": 46,
   "metadata": {},
   "outputs": [],
   "source": [
    "#создаем функции для графиков распределения\n",
    "def overlaid_histogram_notnormed(data1, data2, n_bins, data1_name=\"\", data2_name=\"\", x_label=\"\", y_label=\"\", title=\"\"):\n",
    "    max_nbins = 10\n",
    "    data_range = [min(min(data1), min(data2)), max(max(data1), max(data2))]\n",
    "    binwidth = (data_range[1] - data_range[0]) / max_nbins\n",
    "    if n_bins == 0:\n",
    "        bins = np.arange(data_range[0], data_range[1] + binwidth, binwidth)\n",
    "    else: \n",
    "        bins = n_bins\n",
    "    _, ax = plt.subplots()\n",
    "    ax.hist(data1, bins = bins, alpha = 0.65, label = data1_name)\n",
    "    ax.hist(data2, bins = bins, alpha = 0.60, label = data2_name)\n",
    "    ax.set_ylabel(y_label)\n",
    "    ax.set_xlabel(x_label)\n",
    "    ax.set_title(title)\n",
    "    ax.legend(loc = 'best')\n",
    "def overlaid_histogram(data1, data2, n_bins, data1_name=\"\",data2_name=\"\",  x_label=\"\", y_label=\"\", title=\"\"):\n",
    "    max_nbins = 10\n",
    "    data_range = [min(min(data1), min(data2)), max(max(data1), max(data2))]\n",
    "    binwidth = (data_range[1] - data_range[0]) / max_nbins\n",
    "    if n_bins == 0:\n",
    "        bins = np.arange(data_range[0], data_range[1] + binwidth, binwidth)\n",
    "    else: \n",
    "        bins = n_bins\n",
    "    _, ax = plt.subplots()\n",
    "    ax.hist(data1, bins = bins,  alpha = 0.65, label = data1_name, normed=True)\n",
    "    ax.hist(data2, bins = bins,  alpha = 0.60, label = data2_name, normed=True)\n",
    "    ax.set_ylabel(y_label)\n",
    "    ax.set_xlabel(x_label)\n",
    "    ax.set_title(title)\n",
    "    ax.legend(loc = 'best')"
   ]
  },
  {
   "cell_type": "markdown",
   "metadata": {},
   "source": [
    "Age"
   ]
  },
  {
   "cell_type": "code",
   "execution_count": 47,
   "metadata": {},
   "outputs": [
    {
     "name": "stderr",
     "output_type": "stream",
     "text": [
      "C:\\Users\\margarita.hahan\\AppData\\Local\\Continuum\\anaconda3\\lib\\site-packages\\matplotlib\\axes\\_axes.py:6521: MatplotlibDeprecationWarning: \n",
      "The 'normed' kwarg was deprecated in Matplotlib 2.1 and will be removed in 3.1. Use 'density' instead.\n",
      "  alternative=\"'density'\", removal=\"3.1\")\n",
      "C:\\Users\\margarita.hahan\\AppData\\Local\\Continuum\\anaconda3\\lib\\site-packages\\matplotlib\\axes\\_axes.py:6521: MatplotlibDeprecationWarning: \n",
      "The 'normed' kwarg was deprecated in Matplotlib 2.1 and will be removed in 3.1. Use 'density' instead.\n",
      "  alternative=\"'density'\", removal=\"3.1\")\n"
     ]
    },
    {
     "data": {
      "image/png": "[encoded data removed]",
      "text/plain": [
       "<Figure size 432x288 with 1 Axes>"
      ]
     },
     "metadata": {},
     "output_type": "display_data"
    }
   ],
   "source": [
    "x1=data[(data['Leaver']!=1)]['Age']\n",
    "x2=data[(data['Leaver']==1)]['Age']\n",
    "overlaid_histogram(data1=x1,data2=x2,n_bins=55,title='Распределение нормированное',x_label='Возраст',data1_name='0',data2_name='1' )"
   ]
  },
  {
   "cell_type": "code",
   "execution_count": 48,
   "metadata": {},
   "outputs": [
    {
     "data": {
      "text/html": [
       "<div>\n",
       "<style scoped>\n",
       "    .dataframe tbody tr th:only-of-type {\n",
       "        vertical-align: middle;\n",
       "    }\n",
       "\n",
       "    .dataframe tbody tr th {\n",
       "        vertical-align: top;\n",
       "    }\n",
       "\n",
       "    .dataframe thead th {\n",
       "        text-align: right;\n",
       "    }\n",
       "</style>\n",
       "<table border=\"1\" class=\"dataframe\">\n",
       "  <thead>\n",
       "    <tr style=\"text-align: right;\">\n",
       "      <th></th>\n",
       "      <th>count</th>\n",
       "      <th>mean</th>\n",
       "      <th>std</th>\n",
       "      <th>min</th>\n",
       "      <th>25%</th>\n",
       "      <th>50%</th>\n",
       "      <th>75%</th>\n",
       "      <th>max</th>\n",
       "    </tr>\n",
       "    <tr>\n",
       "      <th>Leaver</th>\n",
       "      <th></th>\n",
       "      <th></th>\n",
       "      <th></th>\n",
       "      <th></th>\n",
       "      <th></th>\n",
       "      <th></th>\n",
       "      <th></th>\n",
       "      <th></th>\n",
       "    </tr>\n",
       "  </thead>\n",
       "  <tbody>\n",
       "    <tr>\n",
       "      <th>0</th>\n",
       "      <td>10455.0</td>\n",
       "      <td>37.980529</td>\n",
       "      <td>10.645833</td>\n",
       "      <td>18.161644</td>\n",
       "      <td>29.497260</td>\n",
       "      <td>37.901370</td>\n",
       "      <td>46.210959</td>\n",
       "      <td>66.169863</td>\n",
       "    </tr>\n",
       "    <tr>\n",
       "      <th>1</th>\n",
       "      <td>752.0</td>\n",
       "      <td>33.955508</td>\n",
       "      <td>10.702954</td>\n",
       "      <td>18.326027</td>\n",
       "      <td>24.239726</td>\n",
       "      <td>32.941096</td>\n",
       "      <td>42.715753</td>\n",
       "      <td>60.676712</td>\n",
       "    </tr>\n",
       "  </tbody>\n",
       "</table>\n",
       "</div>"
      ],
      "text/plain": [
       "          count       mean        std        min        25%        50%  \\\n",
       "Leaver                                                                   \n",
       "0       10455.0  37.980529  10.645833  18.161644  29.497260  37.901370   \n",
       "1         752.0  33.955508  10.702954  18.326027  24.239726  32.941096   \n",
       "\n",
       "              75%        max  \n",
       "Leaver                        \n",
       "0       46.210959  66.169863  \n",
       "1       42.715753  60.676712  "
      ]
     },
     "execution_count": 48,
     "metadata": {},
     "output_type": "execute_result"
    }
   ],
   "source": [
    "data.groupby('Leaver')['Age'].describe()"
   ]
  },
  {
   "cell_type": "markdown",
   "metadata": {},
   "source": [
    "Mistakes"
   ]
  },
  {
   "cell_type": "code",
   "execution_count": 49,
   "metadata": {},
   "outputs": [
    {
     "name": "stderr",
     "output_type": "stream",
     "text": [
      "C:\\Users\\margarita.hahan\\AppData\\Local\\Continuum\\anaconda3\\lib\\site-packages\\matplotlib\\axes\\_axes.py:6521: MatplotlibDeprecationWarning: \n",
      "The 'normed' kwarg was deprecated in Matplotlib 2.1 and will be removed in 3.1. Use 'density' instead.\n",
      "  alternative=\"'density'\", removal=\"3.1\")\n",
      "C:\\Users\\margarita.hahan\\AppData\\Local\\Continuum\\anaconda3\\lib\\site-packages\\matplotlib\\axes\\_axes.py:6521: MatplotlibDeprecationWarning: \n",
      "The 'normed' kwarg was deprecated in Matplotlib 2.1 and will be removed in 3.1. Use 'density' instead.\n",
      "  alternative=\"'density'\", removal=\"3.1\")\n"
     ]
    },
    {
     "data": {
      "image/png": "[encoded data removed]",
      "text/plain": [
       "<Figure size 432x288 with 1 Axes>"
      ]
     },
     "metadata": {},
     "output_type": "display_data"
    }
   ],
   "source": [
    "x1=data[(data['Leaver']!=1)]['# of mistakes']\n",
    "x2=data[(data['Leaver']==1)]['# of mistakes']\n",
    "overlaid_histogram(data1=x1,data2=x2,n_bins=50,title='Распределение нормированное',x_label='Ошибки',data1_name='0',data2_name='1' )"
   ]
  },
  {
   "cell_type": "code",
   "execution_count": 50,
   "metadata": {},
   "outputs": [
    {
     "data": {
      "text/html": [
       "<div>\n",
       "<style scoped>\n",
       "    .dataframe tbody tr th:only-of-type {\n",
       "        vertical-align: middle;\n",
       "    }\n",
       "\n",
       "    .dataframe tbody tr th {\n",
       "        vertical-align: top;\n",
       "    }\n",
       "\n",
       "    .dataframe thead th {\n",
       "        text-align: right;\n",
       "    }\n",
       "</style>\n",
       "<table border=\"1\" class=\"dataframe\">\n",
       "  <thead>\n",
       "    <tr style=\"text-align: right;\">\n",
       "      <th></th>\n",
       "      <th>count</th>\n",
       "      <th>mean</th>\n",
       "      <th>std</th>\n",
       "      <th>min</th>\n",
       "      <th>25%</th>\n",
       "      <th>50%</th>\n",
       "      <th>75%</th>\n",
       "      <th>max</th>\n",
       "    </tr>\n",
       "    <tr>\n",
       "      <th>Leaver</th>\n",
       "      <th></th>\n",
       "      <th></th>\n",
       "      <th></th>\n",
       "      <th></th>\n",
       "      <th></th>\n",
       "      <th></th>\n",
       "      <th></th>\n",
       "      <th></th>\n",
       "    </tr>\n",
       "  </thead>\n",
       "  <tbody>\n",
       "    <tr>\n",
       "      <th>0</th>\n",
       "      <td>10455.0</td>\n",
       "      <td>0.928647</td>\n",
       "      <td>1.638591</td>\n",
       "      <td>0.0</td>\n",
       "      <td>0.0</td>\n",
       "      <td>0.0</td>\n",
       "      <td>1.0</td>\n",
       "      <td>25.0</td>\n",
       "    </tr>\n",
       "    <tr>\n",
       "      <th>1</th>\n",
       "      <td>752.0</td>\n",
       "      <td>1.321809</td>\n",
       "      <td>2.848627</td>\n",
       "      <td>0.0</td>\n",
       "      <td>0.0</td>\n",
       "      <td>0.0</td>\n",
       "      <td>2.0</td>\n",
       "      <td>50.0</td>\n",
       "    </tr>\n",
       "  </tbody>\n",
       "</table>\n",
       "</div>"
      ],
      "text/plain": [
       "          count      mean       std  min  25%  50%  75%   max\n",
       "Leaver                                                       \n",
       "0       10455.0  0.928647  1.638591  0.0  0.0  0.0  1.0  25.0\n",
       "1         752.0  1.321809  2.848627  0.0  0.0  0.0  2.0  50.0"
      ]
     },
     "execution_count": 50,
     "metadata": {},
     "output_type": "execute_result"
    }
   ],
   "source": [
    "data.groupby('Leaver')['# of mistakes'].describe()"
   ]
  },
  {
   "cell_type": "markdown",
   "metadata": {},
   "source": [
    "Fact productivity"
   ]
  },
  {
   "cell_type": "code",
   "execution_count": 52,
   "metadata": {},
   "outputs": [
    {
     "name": "stderr",
     "output_type": "stream",
     "text": [
      "C:\\Users\\margarita.hahan\\AppData\\Local\\Continuum\\anaconda3\\lib\\site-packages\\matplotlib\\axes\\_axes.py:6521: MatplotlibDeprecationWarning: \n",
      "The 'normed' kwarg was deprecated in Matplotlib 2.1 and will be removed in 3.1. Use 'density' instead.\n",
      "  alternative=\"'density'\", removal=\"3.1\")\n",
      "C:\\Users\\margarita.hahan\\AppData\\Local\\Continuum\\anaconda3\\lib\\site-packages\\matplotlib\\axes\\_axes.py:6521: MatplotlibDeprecationWarning: \n",
      "The 'normed' kwarg was deprecated in Matplotlib 2.1 and will be removed in 3.1. Use 'density' instead.\n",
      "  alternative=\"'density'\", removal=\"3.1\")\n"
     ]
    },
    {
     "data": {
      "image/png": "[encoded data removed]",
      "text/plain": [
       "<Figure size 432x288 with 1 Axes>"
      ]
     },
     "metadata": {},
     "output_type": "display_data"
    }
   ],
   "source": [
    "\n",
    "x1=data[(data['Leaver']!=1)]['Fact productivity']\n",
    "x2=data[(data['Leaver']==1)]['Fact productivity']\n",
    "overlaid_histogram(data1=x1,data2=x2,n_bins=50,title='Распределение нормированное',x_label='Продуктивность',data1_name='0',data2_name='1' )"
   ]
  },
  {
   "cell_type": "markdown",
   "metadata": {},
   "source": [
    "Salary"
   ]
  },
  {
   "cell_type": "code",
   "execution_count": 55,
   "metadata": {},
   "outputs": [
    {
     "name": "stderr",
     "output_type": "stream",
     "text": [
      "C:\\Users\\margarita.hahan\\AppData\\Local\\Continuum\\anaconda3\\lib\\site-packages\\matplotlib\\axes\\_axes.py:6521: MatplotlibDeprecationWarning: \n",
      "The 'normed' kwarg was deprecated in Matplotlib 2.1 and will be removed in 3.1. Use 'density' instead.\n",
      "  alternative=\"'density'\", removal=\"3.1\")\n",
      "C:\\Users\\margarita.hahan\\AppData\\Local\\Continuum\\anaconda3\\lib\\site-packages\\matplotlib\\axes\\_axes.py:6521: MatplotlibDeprecationWarning: \n",
      "The 'normed' kwarg was deprecated in Matplotlib 2.1 and will be removed in 3.1. Use 'density' instead.\n",
      "  alternative=\"'density'\", removal=\"3.1\")\n"
     ]
    },
    {
     "data": {
      "image/png": "[encoded data removed]",
      "text/plain": [
       "<Figure size 432x288 with 1 Axes>"
      ]
     },
     "metadata": {},
     "output_type": "display_data"
    }
   ],
   "source": [
    "x1=data[(data['Leaver']!=1)]['Salary vs Last salary']\n",
    "x2=data[(data['Leaver']==1)]['Salary vs Last salary']\n",
    "overlaid_histogram(data1=x1,data2=x2,n_bins=20,title='Распределение нормированное',x_label='Относительная зарплата',data1_name='0',data2_name='1' )"
   ]
  },
  {
   "cell_type": "code",
   "execution_count": 56,
   "metadata": {},
   "outputs": [
    {
     "data": {
      "text/html": [
       "<div>\n",
       "<style scoped>\n",
       "    .dataframe tbody tr th:only-of-type {\n",
       "        vertical-align: middle;\n",
       "    }\n",
       "\n",
       "    .dataframe tbody tr th {\n",
       "        vertical-align: top;\n",
       "    }\n",
       "\n",
       "    .dataframe thead th {\n",
       "        text-align: right;\n",
       "    }\n",
       "</style>\n",
       "<table border=\"1\" class=\"dataframe\">\n",
       "  <thead>\n",
       "    <tr style=\"text-align: right;\">\n",
       "      <th></th>\n",
       "      <th>count</th>\n",
       "      <th>mean</th>\n",
       "      <th>std</th>\n",
       "      <th>min</th>\n",
       "      <th>25%</th>\n",
       "      <th>50%</th>\n",
       "      <th>75%</th>\n",
       "      <th>max</th>\n",
       "    </tr>\n",
       "    <tr>\n",
       "      <th>Leaver</th>\n",
       "      <th></th>\n",
       "      <th></th>\n",
       "      <th></th>\n",
       "      <th></th>\n",
       "      <th></th>\n",
       "      <th></th>\n",
       "      <th></th>\n",
       "      <th></th>\n",
       "    </tr>\n",
       "  </thead>\n",
       "  <tbody>\n",
       "    <tr>\n",
       "      <th>0</th>\n",
       "      <td>10455.0</td>\n",
       "      <td>0.134542</td>\n",
       "      <td>0.909173</td>\n",
       "      <td>-2.000000</td>\n",
       "      <td>-0.192745</td>\n",
       "      <td>0.004761</td>\n",
       "      <td>0.235050</td>\n",
       "      <td>28.257539</td>\n",
       "    </tr>\n",
       "    <tr>\n",
       "      <th>1</th>\n",
       "      <td>752.0</td>\n",
       "      <td>-0.013103</td>\n",
       "      <td>0.571520</td>\n",
       "      <td>-0.997099</td>\n",
       "      <td>-0.336816</td>\n",
       "      <td>-0.081076</td>\n",
       "      <td>0.172867</td>\n",
       "      <td>5.529866</td>\n",
       "    </tr>\n",
       "  </tbody>\n",
       "</table>\n",
       "</div>"
      ],
      "text/plain": [
       "          count      mean       std       min       25%       50%       75%  \\\n",
       "Leaver                                                                        \n",
       "0       10455.0  0.134542  0.909173 -2.000000 -0.192745  0.004761  0.235050   \n",
       "1         752.0 -0.013103  0.571520 -0.997099 -0.336816 -0.081076  0.172867   \n",
       "\n",
       "              max  \n",
       "Leaver             \n",
       "0       28.257539  \n",
       "1        5.529866  "
      ]
     },
     "execution_count": 56,
     "metadata": {},
     "output_type": "execute_result"
    }
   ],
   "source": [
    "data.groupby('Leaver')['Salary vs Last salary'].describe()"
   ]
  },
  {
   "cell_type": "markdown",
   "metadata": {},
   "source": [
    "Vacation"
   ]
  },
  {
   "cell_type": "code",
   "execution_count": 57,
   "metadata": {},
   "outputs": [
    {
     "name": "stderr",
     "output_type": "stream",
     "text": [
      "C:\\Users\\margarita.hahan\\AppData\\Local\\Continuum\\anaconda3\\lib\\site-packages\\matplotlib\\axes\\_axes.py:6521: MatplotlibDeprecationWarning: \n",
      "The 'normed' kwarg was deprecated in Matplotlib 2.1 and will be removed in 3.1. Use 'density' instead.\n",
      "  alternative=\"'density'\", removal=\"3.1\")\n",
      "C:\\Users\\margarita.hahan\\AppData\\Local\\Continuum\\anaconda3\\lib\\site-packages\\matplotlib\\axes\\_axes.py:6521: MatplotlibDeprecationWarning: \n",
      "The 'normed' kwarg was deprecated in Matplotlib 2.1 and will be removed in 3.1. Use 'density' instead.\n",
      "  alternative=\"'density'\", removal=\"3.1\")\n"
     ]
    },
    {
     "data": {
      "image/png": "[encoded data removed]",
      "text/plain": [
       "<Figure size 432x288 with 1 Axes>"
      ]
     },
     "metadata": {},
     "output_type": "display_data"
    }
   ],
   "source": [
    "x1=data[(data['Leaver']!=1)]['Vacation']\n",
    "x2=data[(data['Leaver']==1)]['Vacation']\n",
    "overlaid_histogram(data1=x1,data2=x2,n_bins=50,title='Распределение нормированное',x_label='Отпуска',data1_name='0',data2_name='1' )"
   ]
  },
  {
   "cell_type": "code",
   "execution_count": 58,
   "metadata": {},
   "outputs": [
    {
     "data": {
      "text/html": [
       "<div>\n",
       "<style scoped>\n",
       "    .dataframe tbody tr th:only-of-type {\n",
       "        vertical-align: middle;\n",
       "    }\n",
       "\n",
       "    .dataframe tbody tr th {\n",
       "        vertical-align: top;\n",
       "    }\n",
       "\n",
       "    .dataframe thead th {\n",
       "        text-align: right;\n",
       "    }\n",
       "</style>\n",
       "<table border=\"1\" class=\"dataframe\">\n",
       "  <thead>\n",
       "    <tr style=\"text-align: right;\">\n",
       "      <th></th>\n",
       "      <th>count</th>\n",
       "      <th>mean</th>\n",
       "      <th>std</th>\n",
       "      <th>min</th>\n",
       "      <th>25%</th>\n",
       "      <th>50%</th>\n",
       "      <th>75%</th>\n",
       "      <th>max</th>\n",
       "    </tr>\n",
       "    <tr>\n",
       "      <th>Leaver</th>\n",
       "      <th></th>\n",
       "      <th></th>\n",
       "      <th></th>\n",
       "      <th></th>\n",
       "      <th></th>\n",
       "      <th></th>\n",
       "      <th></th>\n",
       "      <th></th>\n",
       "    </tr>\n",
       "  </thead>\n",
       "  <tbody>\n",
       "    <tr>\n",
       "      <th>0</th>\n",
       "      <td>10455.0</td>\n",
       "      <td>3.297465</td>\n",
       "      <td>12.722889</td>\n",
       "      <td>0.0</td>\n",
       "      <td>0.0</td>\n",
       "      <td>0.0</td>\n",
       "      <td>0.0</td>\n",
       "      <td>132.0</td>\n",
       "    </tr>\n",
       "    <tr>\n",
       "      <th>1</th>\n",
       "      <td>752.0</td>\n",
       "      <td>5.507979</td>\n",
       "      <td>17.391932</td>\n",
       "      <td>0.0</td>\n",
       "      <td>0.0</td>\n",
       "      <td>0.0</td>\n",
       "      <td>0.0</td>\n",
       "      <td>154.0</td>\n",
       "    </tr>\n",
       "  </tbody>\n",
       "</table>\n",
       "</div>"
      ],
      "text/plain": [
       "          count      mean        std  min  25%  50%  75%    max\n",
       "Leaver                                                         \n",
       "0       10455.0  3.297465  12.722889  0.0  0.0  0.0  0.0  132.0\n",
       "1         752.0  5.507979  17.391932  0.0  0.0  0.0  0.0  154.0"
      ]
     },
     "execution_count": 58,
     "metadata": {},
     "output_type": "execute_result"
    }
   ],
   "source": [
    "data.groupby('Leaver')['Vacation'].describe()"
   ]
  },
  {
   "cell_type": "markdown",
   "metadata": {},
   "source": [
    "Sick"
   ]
  },
  {
   "cell_type": "code",
   "execution_count": 59,
   "metadata": {},
   "outputs": [
    {
     "data": {
      "text/html": [
       "<div>\n",
       "<style scoped>\n",
       "    .dataframe tbody tr th:only-of-type {\n",
       "        vertical-align: middle;\n",
       "    }\n",
       "\n",
       "    .dataframe tbody tr th {\n",
       "        vertical-align: top;\n",
       "    }\n",
       "\n",
       "    .dataframe thead th {\n",
       "        text-align: right;\n",
       "    }\n",
       "</style>\n",
       "<table border=\"1\" class=\"dataframe\">\n",
       "  <thead>\n",
       "    <tr style=\"text-align: right;\">\n",
       "      <th></th>\n",
       "      <th>count</th>\n",
       "      <th>mean</th>\n",
       "      <th>std</th>\n",
       "      <th>min</th>\n",
       "      <th>25%</th>\n",
       "      <th>50%</th>\n",
       "      <th>75%</th>\n",
       "      <th>max</th>\n",
       "    </tr>\n",
       "    <tr>\n",
       "      <th>Leaver</th>\n",
       "      <th></th>\n",
       "      <th></th>\n",
       "      <th></th>\n",
       "      <th></th>\n",
       "      <th></th>\n",
       "      <th></th>\n",
       "      <th></th>\n",
       "      <th></th>\n",
       "    </tr>\n",
       "  </thead>\n",
       "  <tbody>\n",
       "    <tr>\n",
       "      <th>0</th>\n",
       "      <td>10455.0</td>\n",
       "      <td>2.209852</td>\n",
       "      <td>11.297470</td>\n",
       "      <td>0.0</td>\n",
       "      <td>0.0</td>\n",
       "      <td>0.0</td>\n",
       "      <td>0.0</td>\n",
       "      <td>154.0</td>\n",
       "    </tr>\n",
       "    <tr>\n",
       "      <th>1</th>\n",
       "      <td>752.0</td>\n",
       "      <td>4.731383</td>\n",
       "      <td>18.254881</td>\n",
       "      <td>0.0</td>\n",
       "      <td>0.0</td>\n",
       "      <td>0.0</td>\n",
       "      <td>0.0</td>\n",
       "      <td>154.0</td>\n",
       "    </tr>\n",
       "  </tbody>\n",
       "</table>\n",
       "</div>"
      ],
      "text/plain": [
       "          count      mean        std  min  25%  50%  75%    max\n",
       "Leaver                                                         \n",
       "0       10455.0  2.209852  11.297470  0.0  0.0  0.0  0.0  154.0\n",
       "1         752.0  4.731383  18.254881  0.0  0.0  0.0  0.0  154.0"
      ]
     },
     "execution_count": 59,
     "metadata": {},
     "output_type": "execute_result"
    }
   ],
   "source": [
    "data.groupby('Leaver')['Sick'].describe()"
   ]
  },
  {
   "cell_type": "markdown",
   "metadata": {},
   "source": [
    "Worked"
   ]
  },
  {
   "cell_type": "code",
   "execution_count": 60,
   "metadata": {},
   "outputs": [
    {
     "name": "stderr",
     "output_type": "stream",
     "text": [
      "C:\\Users\\margarita.hahan\\AppData\\Local\\Continuum\\anaconda3\\lib\\site-packages\\matplotlib\\axes\\_axes.py:6521: MatplotlibDeprecationWarning: \n",
      "The 'normed' kwarg was deprecated in Matplotlib 2.1 and will be removed in 3.1. Use 'density' instead.\n",
      "  alternative=\"'density'\", removal=\"3.1\")\n",
      "C:\\Users\\margarita.hahan\\AppData\\Local\\Continuum\\anaconda3\\lib\\site-packages\\matplotlib\\axes\\_axes.py:6521: MatplotlibDeprecationWarning: \n",
      "The 'normed' kwarg was deprecated in Matplotlib 2.1 and will be removed in 3.1. Use 'density' instead.\n",
      "  alternative=\"'density'\", removal=\"3.1\")\n"
     ]
    },
    {
     "data": {
      "image/png": "[encoded data removed]",
      "text/plain": [
       "<Figure size 432x288 with 1 Axes>"
      ]
     },
     "metadata": {},
     "output_type": "display_data"
    }
   ],
   "source": [
    "x1=data[(data['Leaver']!=1)]['Worked']\n",
    "x2=data[(data['Leaver']==1)]['Worked']\n",
    "overlaid_histogram(data1=x1,data2=x2,n_bins=50,title='Распределение нормированное',x_label='Отработано',data1_name='0',data2_name='1' )"
   ]
  },
  {
   "cell_type": "code",
   "execution_count": 61,
   "metadata": {},
   "outputs": [
    {
     "data": {
      "text/html": [
       "<div>\n",
       "<style scoped>\n",
       "    .dataframe tbody tr th:only-of-type {\n",
       "        vertical-align: middle;\n",
       "    }\n",
       "\n",
       "    .dataframe tbody tr th {\n",
       "        vertical-align: top;\n",
       "    }\n",
       "\n",
       "    .dataframe thead th {\n",
       "        text-align: right;\n",
       "    }\n",
       "</style>\n",
       "<table border=\"1\" class=\"dataframe\">\n",
       "  <thead>\n",
       "    <tr style=\"text-align: right;\">\n",
       "      <th></th>\n",
       "      <th>count</th>\n",
       "      <th>mean</th>\n",
       "      <th>std</th>\n",
       "      <th>min</th>\n",
       "      <th>25%</th>\n",
       "      <th>50%</th>\n",
       "      <th>75%</th>\n",
       "      <th>max</th>\n",
       "    </tr>\n",
       "    <tr>\n",
       "      <th>Leaver</th>\n",
       "      <th></th>\n",
       "      <th></th>\n",
       "      <th></th>\n",
       "      <th></th>\n",
       "      <th></th>\n",
       "      <th></th>\n",
       "      <th></th>\n",
       "      <th></th>\n",
       "    </tr>\n",
       "  </thead>\n",
       "  <tbody>\n",
       "    <tr>\n",
       "      <th>0</th>\n",
       "      <td>10455.0</td>\n",
       "      <td>0.918508</td>\n",
       "      <td>0.291445</td>\n",
       "      <td>0.0000</td>\n",
       "      <td>0.750000</td>\n",
       "      <td>0.951515</td>\n",
       "      <td>1.042424</td>\n",
       "      <td>2.646645</td>\n",
       "    </tr>\n",
       "    <tr>\n",
       "      <th>1</th>\n",
       "      <td>752.0</td>\n",
       "      <td>0.795881</td>\n",
       "      <td>0.326518</td>\n",
       "      <td>0.0625</td>\n",
       "      <td>0.568182</td>\n",
       "      <td>0.812500</td>\n",
       "      <td>1.000000</td>\n",
       "      <td>2.489899</td>\n",
       "    </tr>\n",
       "  </tbody>\n",
       "</table>\n",
       "</div>"
      ],
      "text/plain": [
       "          count      mean       std     min       25%       50%       75%  \\\n",
       "Leaver                                                                      \n",
       "0       10455.0  0.918508  0.291445  0.0000  0.750000  0.951515  1.042424   \n",
       "1         752.0  0.795881  0.326518  0.0625  0.568182  0.812500  1.000000   \n",
       "\n",
       "             max  \n",
       "Leaver            \n",
       "0       2.646645  \n",
       "1       2.489899  "
      ]
     },
     "execution_count": 61,
     "metadata": {},
     "output_type": "execute_result"
    }
   ],
   "source": [
    "data.groupby('Leaver')['Worked'].describe()"
   ]
  },
  {
   "cell_type": "markdown",
   "metadata": {},
   "source": [
    "Distance"
   ]
  },
  {
   "cell_type": "code",
   "execution_count": 63,
   "metadata": {},
   "outputs": [
    {
     "name": "stderr",
     "output_type": "stream",
     "text": [
      "C:\\Users\\margarita.hahan\\AppData\\Local\\Continuum\\anaconda3\\lib\\site-packages\\matplotlib\\axes\\_axes.py:6521: MatplotlibDeprecationWarning: \n",
      "The 'normed' kwarg was deprecated in Matplotlib 2.1 and will be removed in 3.1. Use 'density' instead.\n",
      "  alternative=\"'density'\", removal=\"3.1\")\n",
      "C:\\Users\\margarita.hahan\\AppData\\Local\\Continuum\\anaconda3\\lib\\site-packages\\matplotlib\\axes\\_axes.py:6521: MatplotlibDeprecationWarning: \n",
      "The 'normed' kwarg was deprecated in Matplotlib 2.1 and will be removed in 3.1. Use 'density' instead.\n",
      "  alternative=\"'density'\", removal=\"3.1\")\n"
     ]
    },
    {
     "data": {
      "image/png": "[encoded data removed]",
      "text/plain": [
       "<Figure size 432x288 with 1 Axes>"
      ]
     },
     "metadata": {},
     "output_type": "display_data"
    }
   ],
   "source": [
    "x1=data[(data['Leaver']!=1)]['Distance']\n",
    "x2=data[(data['Leaver']==1)]['Distance']\n",
    "overlaid_histogram(data1=x1,data2=x2,n_bins=20,title='Распределение нормированное',x_label='Расстояние между',data1_name='0',data2_name='1' )"
   ]
  },
  {
   "cell_type": "code",
   "execution_count": 64,
   "metadata": {},
   "outputs": [
    {
     "data": {
      "text/html": [
       "<div>\n",
       "<style scoped>\n",
       "    .dataframe tbody tr th:only-of-type {\n",
       "        vertical-align: middle;\n",
       "    }\n",
       "\n",
       "    .dataframe tbody tr th {\n",
       "        vertical-align: top;\n",
       "    }\n",
       "\n",
       "    .dataframe thead th {\n",
       "        text-align: right;\n",
       "    }\n",
       "</style>\n",
       "<table border=\"1\" class=\"dataframe\">\n",
       "  <thead>\n",
       "    <tr style=\"text-align: right;\">\n",
       "      <th></th>\n",
       "      <th>count</th>\n",
       "      <th>mean</th>\n",
       "      <th>std</th>\n",
       "      <th>min</th>\n",
       "      <th>25%</th>\n",
       "      <th>50%</th>\n",
       "      <th>75%</th>\n",
       "      <th>max</th>\n",
       "    </tr>\n",
       "    <tr>\n",
       "      <th>Leaver</th>\n",
       "      <th></th>\n",
       "      <th></th>\n",
       "      <th></th>\n",
       "      <th></th>\n",
       "      <th></th>\n",
       "      <th></th>\n",
       "      <th></th>\n",
       "      <th></th>\n",
       "    </tr>\n",
       "  </thead>\n",
       "  <tbody>\n",
       "    <tr>\n",
       "      <th>0</th>\n",
       "      <td>10455.0</td>\n",
       "      <td>34.444385</td>\n",
       "      <td>39.280802</td>\n",
       "      <td>7.0</td>\n",
       "      <td>18.0</td>\n",
       "      <td>18.0</td>\n",
       "      <td>25.0</td>\n",
       "      <td>778.0</td>\n",
       "    </tr>\n",
       "    <tr>\n",
       "      <th>1</th>\n",
       "      <td>752.0</td>\n",
       "      <td>34.161797</td>\n",
       "      <td>44.962718</td>\n",
       "      <td>7.0</td>\n",
       "      <td>18.0</td>\n",
       "      <td>25.0</td>\n",
       "      <td>32.0</td>\n",
       "      <td>778.0</td>\n",
       "    </tr>\n",
       "  </tbody>\n",
       "</table>\n",
       "</div>"
      ],
      "text/plain": [
       "          count       mean        std  min   25%   50%   75%    max\n",
       "Leaver                                                             \n",
       "0       10455.0  34.444385  39.280802  7.0  18.0  18.0  25.0  778.0\n",
       "1         752.0  34.161797  44.962718  7.0  18.0  25.0  32.0  778.0"
      ]
     },
     "execution_count": 64,
     "metadata": {},
     "output_type": "execute_result"
    }
   ],
   "source": [
    "data.groupby('Leaver')['Distance'].describe()"
   ]
  },
  {
   "cell_type": "markdown",
   "metadata": {},
   "source": [
    "Correlation matrix"
   ]
  },
  {
   "cell_type": "code",
   "execution_count": 65,
   "metadata": {},
   "outputs": [
    {
     "name": "stdout",
     "output_type": "stream",
     "text": [
      "Vacation         0.042223\n",
      "Sick             0.052982\n",
      "# of mistakes    0.056251\n",
      "Leaver           1.000000\n",
      "Name: Leaver, dtype: float64\n",
      "Tenure              -0.140177\n",
      "Fact productivity   -0.135798\n",
      "Worked              -0.103828\n",
      "Name: Leaver, dtype: float64\n"
     ]
    }
   ],
   "source": [
    "data_2 = data.copy()\n",
    "correlations = data_2.corr()['Leaver'].sort_values()\n",
    "print(correlations.tail(4))\n",
    "print(correlations.head(3))"
   ]
  },
  {
   "cell_type": "code",
   "execution_count": 66,
   "metadata": {
    "scrolled": true
   },
   "outputs": [
    {
     "data": {
      "text/plain": [
       "<matplotlib.axes._subplots.AxesSubplot at 0x20902e78d30>"
      ]
     },
     "execution_count": 66,
     "metadata": {},
     "output_type": "execute_result"
    },
    {
     "data": {
      "image/png": "[encoded data removed]",
      "text/plain": [
       "<Figure size 1080x720 with 2 Axes>"
      ]
     },
     "metadata": {},
     "output_type": "display_data"
    }
   ],
   "source": [
    "corr = data_2.corr()\n",
    "mask = np.zeros_like(corr)\n",
    "mask[np.triu_indices_from(mask)] = True\n",
    "# Heatmap\n",
    "plt.figure(figsize=(15, 10))\n",
    "sns.heatmap(corr,\n",
    "            vmax=.5,\n",
    "            mask=mask,\n",
    "            linewidths=.2, cmap=\"YlGnBu\")"
   ]
  },
  {
   "cell_type": "markdown",
   "metadata": {},
   "source": [
    "# Data preprocessing"
   ]
  },
  {
   "cell_type": "code",
   "execution_count": 67,
   "metadata": {},
   "outputs": [],
   "source": [
    "# encoding \n",
    "from sklearn.preprocessing import LabelEncoder\n",
    "\n",
    "le = LabelEncoder()\n",
    "le_count = 0\n",
    "for col in data.columns[1:]:\n",
    "    if data[col].dtype == 'object':\n",
    "        if len(list(data[col].unique())) <= 2:\n",
    "            le.fit(data[col])\n",
    "            data[col] = le.transform(data[col])\n",
    "            le_count += 1"
   ]
  },
  {
   "cell_type": "code",
   "execution_count": null,
   "metadata": {},
   "outputs": [],
   "source": [
    "data.head()"
   ]
  },
  {
   "cell_type": "code",
   "execution_count": 37,
   "metadata": {},
   "outputs": [],
   "source": [
    "#Создание dummy - переменных\n",
    "data = pd.get_dummies(data, drop_first=True)"
   ]
  },
  {
   "cell_type": "code",
   "execution_count": 38,
   "metadata": {},
   "outputs": [
    {
     "data": {
      "text/plain": [
       "Index(['# of mistakes', 'Fact productivity', 'Salary vs Last salary',\n",
       "       'Vacation', 'Sick', 'Worked', 'Gender', 'Distance', 'Leaver', 'Tenure',\n",
       "       'Age', 'Process_INV', 'Process_PACK_IS', 'Process_PACK_MB',\n",
       "       'Process_PICK', 'Process_PREMIUM', 'Process_PUT', 'Process_RET',\n",
       "       'Process_SORT', 'Process_UNPACK', 'SHIFT_SHIFT 2', 'SHIFT_SHIFT 3',\n",
       "       'SHIFT_SHIFT 4', 'SHIFT_SHIFT х'],\n",
       "      dtype='object')"
      ]
     },
     "execution_count": 38,
     "metadata": {},
     "output_type": "execute_result"
    }
   ],
   "source": [
    "data.columns"
   ]
  },
  {
   "cell_type": "code",
   "execution_count": 40,
   "metadata": {},
   "outputs": [
    {
     "data": {
      "text/html": [
       "<div>\n",
       "<style scoped>\n",
       "    .dataframe tbody tr th:only-of-type {\n",
       "        vertical-align: middle;\n",
       "    }\n",
       "\n",
       "    .dataframe tbody tr th {\n",
       "        vertical-align: top;\n",
       "    }\n",
       "\n",
       "    .dataframe thead th {\n",
       "        text-align: right;\n",
       "    }\n",
       "</style>\n",
       "<table border=\"1\" class=\"dataframe\">\n",
       "  <thead>\n",
       "    <tr style=\"text-align: right;\">\n",
       "      <th></th>\n",
       "      <th># of mistakes</th>\n",
       "      <th>Fact productivity</th>\n",
       "      <th>Salary vs Last salary</th>\n",
       "      <th>Vacation</th>\n",
       "      <th>Sick</th>\n",
       "      <th>Worked</th>\n",
       "      <th>Gender</th>\n",
       "      <th>Distance</th>\n",
       "      <th>Leaver</th>\n",
       "      <th>Tenure</th>\n",
       "      <th>Age</th>\n",
       "      <th>Process_INV</th>\n",
       "      <th>Process_PACK_IS</th>\n",
       "      <th>Process_PACK_MB</th>\n",
       "      <th>Process_PICK</th>\n",
       "      <th>Process_PREMIUM</th>\n",
       "      <th>Process_PUT</th>\n",
       "      <th>Process_RET</th>\n",
       "      <th>Process_SORT</th>\n",
       "      <th>Process_UNPACK</th>\n",
       "      <th>SHIFT_SHIFT 2</th>\n",
       "      <th>SHIFT_SHIFT 3</th>\n",
       "      <th>SHIFT_SHIFT 4</th>\n",
       "      <th>SHIFT_SHIFT х</th>\n",
       "    </tr>\n",
       "  </thead>\n",
       "  <tbody>\n",
       "    <tr>\n",
       "      <th>0</th>\n",
       "      <td>0.02</td>\n",
       "      <td>0.103137</td>\n",
       "      <td>0.055094</td>\n",
       "      <td>0.0</td>\n",
       "      <td>0.0</td>\n",
       "      <td>0.270497</td>\n",
       "      <td>0.0</td>\n",
       "      <td>0.014267</td>\n",
       "      <td>0.0</td>\n",
       "      <td>0.047619</td>\n",
       "      <td>0.623124</td>\n",
       "      <td>0.0</td>\n",
       "      <td>1.0</td>\n",
       "      <td>0.0</td>\n",
       "      <td>0.0</td>\n",
       "      <td>0.0</td>\n",
       "      <td>0.0</td>\n",
       "      <td>0.0</td>\n",
       "      <td>0.0</td>\n",
       "      <td>0.0</td>\n",
       "      <td>0.0</td>\n",
       "      <td>0.0</td>\n",
       "      <td>0.0</td>\n",
       "      <td>0.0</td>\n",
       "    </tr>\n",
       "    <tr>\n",
       "      <th>1</th>\n",
       "      <td>0.00</td>\n",
       "      <td>0.137607</td>\n",
       "      <td>0.061661</td>\n",
       "      <td>0.0</td>\n",
       "      <td>0.0</td>\n",
       "      <td>0.283378</td>\n",
       "      <td>0.0</td>\n",
       "      <td>0.023346</td>\n",
       "      <td>0.0</td>\n",
       "      <td>0.113735</td>\n",
       "      <td>0.272214</td>\n",
       "      <td>0.0</td>\n",
       "      <td>1.0</td>\n",
       "      <td>0.0</td>\n",
       "      <td>0.0</td>\n",
       "      <td>0.0</td>\n",
       "      <td>0.0</td>\n",
       "      <td>0.0</td>\n",
       "      <td>0.0</td>\n",
       "      <td>0.0</td>\n",
       "      <td>0.0</td>\n",
       "      <td>0.0</td>\n",
       "      <td>0.0</td>\n",
       "      <td>0.0</td>\n",
       "    </tr>\n",
       "    <tr>\n",
       "      <th>3</th>\n",
       "      <td>0.04</td>\n",
       "      <td>0.065155</td>\n",
       "      <td>0.052995</td>\n",
       "      <td>0.0</td>\n",
       "      <td>0.0</td>\n",
       "      <td>0.330607</td>\n",
       "      <td>0.0</td>\n",
       "      <td>0.000000</td>\n",
       "      <td>0.0</td>\n",
       "      <td>0.003542</td>\n",
       "      <td>0.725675</td>\n",
       "      <td>0.0</td>\n",
       "      <td>1.0</td>\n",
       "      <td>0.0</td>\n",
       "      <td>0.0</td>\n",
       "      <td>0.0</td>\n",
       "      <td>0.0</td>\n",
       "      <td>0.0</td>\n",
       "      <td>0.0</td>\n",
       "      <td>0.0</td>\n",
       "      <td>0.0</td>\n",
       "      <td>0.0</td>\n",
       "      <td>0.0</td>\n",
       "      <td>0.0</td>\n",
       "    </tr>\n",
       "    <tr>\n",
       "      <th>4</th>\n",
       "      <td>0.00</td>\n",
       "      <td>0.123532</td>\n",
       "      <td>0.067022</td>\n",
       "      <td>0.0</td>\n",
       "      <td>0.0</td>\n",
       "      <td>0.291965</td>\n",
       "      <td>0.0</td>\n",
       "      <td>0.014267</td>\n",
       "      <td>0.0</td>\n",
       "      <td>0.406533</td>\n",
       "      <td>0.748901</td>\n",
       "      <td>0.0</td>\n",
       "      <td>0.0</td>\n",
       "      <td>0.0</td>\n",
       "      <td>0.0</td>\n",
       "      <td>1.0</td>\n",
       "      <td>0.0</td>\n",
       "      <td>0.0</td>\n",
       "      <td>0.0</td>\n",
       "      <td>0.0</td>\n",
       "      <td>0.0</td>\n",
       "      <td>0.0</td>\n",
       "      <td>0.0</td>\n",
       "      <td>1.0</td>\n",
       "    </tr>\n",
       "    <tr>\n",
       "      <th>5</th>\n",
       "      <td>0.00</td>\n",
       "      <td>0.107493</td>\n",
       "      <td>0.051232</td>\n",
       "      <td>0.0</td>\n",
       "      <td>0.0</td>\n",
       "      <td>0.259763</td>\n",
       "      <td>0.0</td>\n",
       "      <td>0.000000</td>\n",
       "      <td>0.0</td>\n",
       "      <td>0.047619</td>\n",
       "      <td>0.283627</td>\n",
       "      <td>0.0</td>\n",
       "      <td>1.0</td>\n",
       "      <td>0.0</td>\n",
       "      <td>0.0</td>\n",
       "      <td>0.0</td>\n",
       "      <td>0.0</td>\n",
       "      <td>0.0</td>\n",
       "      <td>0.0</td>\n",
       "      <td>0.0</td>\n",
       "      <td>0.0</td>\n",
       "      <td>0.0</td>\n",
       "      <td>0.0</td>\n",
       "      <td>0.0</td>\n",
       "    </tr>\n",
       "  </tbody>\n",
       "</table>\n",
       "</div>"
      ],
      "text/plain": [
       "   # of mistakes  Fact productivity  Salary vs Last salary  Vacation  Sick  \\\n",
       "0           0.02           0.103137               0.055094       0.0   0.0   \n",
       "1           0.00           0.137607               0.061661       0.0   0.0   \n",
       "3           0.04           0.065155               0.052995       0.0   0.0   \n",
       "4           0.00           0.123532               0.067022       0.0   0.0   \n",
       "5           0.00           0.107493               0.051232       0.0   0.0   \n",
       "\n",
       "     Worked  Gender  Distance  Leaver    Tenure       Age  Process_INV  \\\n",
       "0  0.270497     0.0  0.014267     0.0  0.047619  0.623124          0.0   \n",
       "1  0.283378     0.0  0.023346     0.0  0.113735  0.272214          0.0   \n",
       "3  0.330607     0.0  0.000000     0.0  0.003542  0.725675          0.0   \n",
       "4  0.291965     0.0  0.014267     0.0  0.406533  0.748901          0.0   \n",
       "5  0.259763     0.0  0.000000     0.0  0.047619  0.283627          0.0   \n",
       "\n",
       "   Process_PACK_IS  Process_PACK_MB  Process_PICK  Process_PREMIUM  \\\n",
       "0              1.0              0.0           0.0              0.0   \n",
       "1              1.0              0.0           0.0              0.0   \n",
       "3              1.0              0.0           0.0              0.0   \n",
       "4              0.0              0.0           0.0              1.0   \n",
       "5              1.0              0.0           0.0              0.0   \n",
       "\n",
       "   Process_PUT  Process_RET  Process_SORT  Process_UNPACK  SHIFT_SHIFT 2  \\\n",
       "0          0.0          0.0           0.0             0.0            0.0   \n",
       "1          0.0          0.0           0.0             0.0            0.0   \n",
       "3          0.0          0.0           0.0             0.0            0.0   \n",
       "4          0.0          0.0           0.0             0.0            0.0   \n",
       "5          0.0          0.0           0.0             0.0            0.0   \n",
       "\n",
       "   SHIFT_SHIFT 3  SHIFT_SHIFT 4  SHIFT_SHIFT х  \n",
       "0            0.0            0.0            0.0  \n",
       "1            0.0            0.0            0.0  \n",
       "3            0.0            0.0            0.0  \n",
       "4            0.0            0.0            1.0  \n",
       "5            0.0            0.0            0.0  "
      ]
     },
     "execution_count": 40,
     "metadata": {},
     "output_type": "execute_result"
    }
   ],
   "source": [
    "#Preprocessign using MizMaxScaler\n",
    "from sklearn.preprocessing import MinMaxScaler\n",
    "scaler = MinMaxScaler(feature_range=(0, 1))\n",
    "data_col = list(data.columns)\n",
    "data_col.remove('Leaver')\n",
    "for col in data_col:\n",
    "    data[col] = data[col].astype(float)\n",
    "    data[[col]] = scaler.fit_transform(data[[col]])\n",
    "data['Leaver'] = pd.to_numeric(data['Leaver'], downcast='float')\n",
    "data.head()"
   ]
  },
  {
   "cell_type": "code",
   "execution_count": null,
   "metadata": {},
   "outputs": [],
   "source": [
    "\n",
    "print('Size of Full Encoded Dataset: {}'. format(data.shape))"
   ]
  },
  {
   "cell_type": "code",
   "execution_count": null,
   "metadata": {},
   "outputs": [],
   "source": [
    "import sys\n",
    "!{sys.executable} -m pip install xgboost"
   ]
  },
  {
   "cell_type": "code",
   "execution_count": 41,
   "metadata": {},
   "outputs": [],
   "source": [
    "# импортируем библетотеки\n",
    "\n",
    "\n",
    "from sklearn.model_selection import GridSearchCV\n",
    "from sklearn.model_selection import RandomizedSearchCV\n",
    "from sklearn.model_selection import ShuffleSplit\n",
    "from sklearn.model_selection import KFold\n",
    "from sklearn.model_selection import cross_val_score\n",
    "\n",
    "# Common sklearn Model Helpers\n",
    "from sklearn import feature_selection\n",
    "from sklearn import model_selection\n",
    "from sklearn import metrics\n",
    "\n",
    "# sklearn modules for performance metrics\n",
    "from sklearn.metrics import confusion_matrix, classification_report, precision_recall_curve\n",
    "from sklearn.metrics import auc, roc_auc_score, roc_curve, recall_score, log_loss\n",
    "from sklearn.metrics import f1_score, accuracy_score, roc_auc_score, make_scorer\n",
    "from sklearn.metrics import average_precision_score\n",
    "\n",
    "from sklearn import svm, tree, linear_model, neighbors\n",
    "from sklearn import naive_bayes, ensemble, discriminant_analysis, gaussian_process\n",
    "\n",
    "from sklearn.discriminant_analysis import LinearDiscriminantAnalysis\n",
    "from xgboost import XGBClassifier"
   ]
  },
  {
   "cell_type": "code",
   "execution_count": null,
   "metadata": {},
   "outputs": [],
   "source": []
  },
  {
   "cell_type": "code",
   "execution_count": 45,
   "metadata": {},
   "outputs": [
    {
     "name": "stdout",
     "output_type": "stream",
     "text": [
      "Number transactions X_train dataset:  (8405, 23)\n",
      "Number transactions y_train dataset:  (8405,)\n",
      "Number transactions X_test dataset:  (2802, 23)\n",
      "Number transactions y_test dataset:  (2802,)\n"
     ]
    }
   ],
   "source": [
    "from sklearn.model_selection import train_test_split\n",
    "target_data = data['Leaver'].copy()\n",
    "main_data=data.drop(columns='Leaver')\n",
    "from sklearn.model_selection import train_test_split\n",
    "X_train, X_test, y_train, y_test = train_test_split(main_data,target_data,\n",
    "                                                    test_size=0.25,\n",
    "                                                      )  \n",
    "print(\"Number transactions X_train dataset: \", X_train.shape)\n",
    "print(\"Number transactions y_train dataset: \", y_train.shape)\n",
    "print(\"Number transactions X_test dataset: \", X_test.shape)\n",
    "print(\"Number transactions y_test dataset: \", y_test.shape)"
   ]
  },
  {
   "cell_type": "code",
   "execution_count": null,
   "metadata": {},
   "outputs": [],
   "source": [
    " import sys\n",
    "!{sys.executable} -m pip install imblearn"
   ]
  },
  {
   "cell_type": "markdown",
   "metadata": {},
   "source": [
    "# Построение моделей"
   ]
  },
  {
   "cell_type": "code",
   "execution_count": 69,
   "metadata": {},
   "outputs": [],
   "source": [
    "# Библиотеки моделей\n",
    "\n",
    "from sklearn.linear_model import LogisticRegression\n",
    "from sklearn.ensemble import RandomForestClassifier\n",
    "from sklearn.svm import SVC\n",
    "from sklearn.neighbors import KNeighborsClassifier\n",
    "from sklearn.tree import DecisionTreeClassifier\n",
    "from sklearn.naive_bayes import GaussianNB\n",
    "\n",
    "\n",
    "# Добавление моделей для последущего сравнения\n",
    "models = []\n",
    "models.append(('Logistic Regression', LogisticRegression(solver='liblinear', random_state=7,\n",
    "                                                         class_weight='balanced')))\n",
    "models.append(('Random Forest', RandomForestClassifier(\n",
    "    n_estimators=100, random_state=7)))\n",
    "models.append(('SVM', SVC(gamma='auto', random_state=7)))\n",
    "models.append(('KNN', KNeighborsClassifier()))\n",
    "models.append(('Decision Tree Classifier',\n",
    "               DecisionTreeClassifier(random_state=7)))\n",
    "models.append(('Gaussian NB', GaussianNB()))"
   ]
  },
  {
   "cell_type": "code",
   "execution_count": 68,
   "metadata": {},
   "outputs": [
    {
     "name": "stderr",
     "output_type": "stream",
     "text": [
      "C:\\Users\\margarita.hahan\\AppData\\Local\\Continuum\\anaconda3\\lib\\site-packages\\sklearn\\model_selection\\_split.py:296: FutureWarning: Setting a random_state has no effect since shuffle is False. This will raise an error in 0.24. You should leave random_state to its default (None), or set shuffle=True.\n",
      "  FutureWarning\n",
      "C:\\Users\\margarita.hahan\\AppData\\Local\\Continuum\\anaconda3\\lib\\site-packages\\sklearn\\model_selection\\_split.py:296: FutureWarning: Setting a random_state has no effect since shuffle is False. This will raise an error in 0.24. You should leave random_state to its default (None), or set shuffle=True.\n",
      "  FutureWarning\n",
      "C:\\Users\\margarita.hahan\\AppData\\Local\\Continuum\\anaconda3\\lib\\site-packages\\sklearn\\model_selection\\_split.py:296: FutureWarning: Setting a random_state has no effect since shuffle is False. This will raise an error in 0.24. You should leave random_state to its default (None), or set shuffle=True.\n",
      "  FutureWarning\n",
      "C:\\Users\\margarita.hahan\\AppData\\Local\\Continuum\\anaconda3\\lib\\site-packages\\sklearn\\model_selection\\_split.py:296: FutureWarning: Setting a random_state has no effect since shuffle is False. This will raise an error in 0.24. You should leave random_state to its default (None), or set shuffle=True.\n",
      "  FutureWarning\n",
      "C:\\Users\\margarita.hahan\\AppData\\Local\\Continuum\\anaconda3\\lib\\site-packages\\sklearn\\model_selection\\_split.py:296: FutureWarning: Setting a random_state has no effect since shuffle is False. This will raise an error in 0.24. You should leave random_state to its default (None), or set shuffle=True.\n",
      "  FutureWarning\n",
      "C:\\Users\\margarita.hahan\\AppData\\Local\\Continuum\\anaconda3\\lib\\site-packages\\sklearn\\model_selection\\_split.py:296: FutureWarning: Setting a random_state has no effect since shuffle is False. This will raise an error in 0.24. You should leave random_state to its default (None), or set shuffle=True.\n",
      "  FutureWarning\n"
     ]
    },
    {
     "data": {
      "text/html": [
       "<div>\n",
       "<style scoped>\n",
       "    .dataframe tbody tr th:only-of-type {\n",
       "        vertical-align: middle;\n",
       "    }\n",
       "\n",
       "    .dataframe tbody tr th {\n",
       "        vertical-align: top;\n",
       "    }\n",
       "\n",
       "    .dataframe thead th {\n",
       "        text-align: right;\n",
       "    }\n",
       "</style>\n",
       "<table border=\"1\" class=\"dataframe\">\n",
       "  <thead>\n",
       "    <tr style=\"text-align: right;\">\n",
       "      <th></th>\n",
       "      <th>Algorithm</th>\n",
       "      <th>ROC AUC Mean</th>\n",
       "      <th>ROC AUC STD</th>\n",
       "      <th>Accuracy Mean</th>\n",
       "      <th>Accuracy STD</th>\n",
       "    </tr>\n",
       "  </thead>\n",
       "  <tbody>\n",
       "    <tr>\n",
       "      <th>0</th>\n",
       "      <td>Logistic Regression</td>\n",
       "      <td>75.63</td>\n",
       "      <td>2.51</td>\n",
       "      <td>66.02</td>\n",
       "      <td>1.58</td>\n",
       "    </tr>\n",
       "    <tr>\n",
       "      <th>1</th>\n",
       "      <td>Random Forest</td>\n",
       "      <td>74.03</td>\n",
       "      <td>2.49</td>\n",
       "      <td>93.38</td>\n",
       "      <td>0.70</td>\n",
       "    </tr>\n",
       "    <tr>\n",
       "      <th>5</th>\n",
       "      <td>Gaussian NB</td>\n",
       "      <td>69.98</td>\n",
       "      <td>4.40</td>\n",
       "      <td>80.82</td>\n",
       "      <td>1.90</td>\n",
       "    </tr>\n",
       "    <tr>\n",
       "      <th>3</th>\n",
       "      <td>KNN</td>\n",
       "      <td>59.19</td>\n",
       "      <td>3.68</td>\n",
       "      <td>93.15</td>\n",
       "      <td>0.84</td>\n",
       "    </tr>\n",
       "    <tr>\n",
       "      <th>4</th>\n",
       "      <td>Decision Tree Classifier</td>\n",
       "      <td>56.05</td>\n",
       "      <td>2.48</td>\n",
       "      <td>88.77</td>\n",
       "      <td>1.07</td>\n",
       "    </tr>\n",
       "    <tr>\n",
       "      <th>2</th>\n",
       "      <td>SVM</td>\n",
       "      <td>51.07</td>\n",
       "      <td>2.72</td>\n",
       "      <td>93.40</td>\n",
       "      <td>0.70</td>\n",
       "    </tr>\n",
       "  </tbody>\n",
       "</table>\n",
       "</div>"
      ],
      "text/plain": [
       "                  Algorithm  ROC AUC Mean  ROC AUC STD  Accuracy Mean  \\\n",
       "0       Logistic Regression         75.63         2.51          66.02   \n",
       "1             Random Forest         74.03         2.49          93.38   \n",
       "5               Gaussian NB         69.98         4.40          80.82   \n",
       "3                       KNN         59.19         3.68          93.15   \n",
       "4  Decision Tree Classifier         56.05         2.48          88.77   \n",
       "2                       SVM         51.07         2.72          93.40   \n",
       "\n",
       "   Accuracy STD  \n",
       "0          1.58  \n",
       "1          0.70  \n",
       "5          1.90  \n",
       "3          0.84  \n",
       "4          1.07  \n",
       "2          0.70  "
      ]
     },
     "execution_count": 68,
     "metadata": {},
     "output_type": "execute_result"
    }
   ],
   "source": [
    "\n",
    "#Сравниваем результаты моделей\n",
    "acc_results = []\n",
    "auc_results = []\n",
    "names = []\n",
    "col = ['Algorithm', 'ROC AUC Mean', 'ROC AUC STD', \n",
    "       'Accuracy Mean', 'Accuracy STD']\n",
    "df_results = pd.DataFrame(columns=col)\n",
    "i = 0\n",
    "# evaluate each model using cross-validation\n",
    "for name, model in models:\n",
    "    kfold = model_selection.KFold(\n",
    "        n_splits=10, random_state=7)  # 10-fold cross-validation\n",
    "\n",
    "    cv_acc_results = model_selection.cross_val_score(  # accuracy scoring\n",
    "        model, X_train, y_train, cv=kfold, scoring='accuracy')\n",
    "\n",
    "    cv_auc_results = model_selection.cross_val_score(  # roc_auc scoring\n",
    "        model, X_train, y_train, cv=kfold, scoring='roc_auc')\n",
    "\n",
    "    acc_results.append(cv_acc_results)\n",
    "    auc_results.append(cv_auc_results)\n",
    "    names.append(name)\n",
    "    df_results.loc[i] = [name,\n",
    "                         round(cv_auc_results.mean()*100, 2),\n",
    "                         round(cv_auc_results.std()*100, 2),\n",
    "                         round(cv_acc_results.mean()*100, 2),\n",
    "                         round(cv_acc_results.std()*100, 2)\n",
    "                         ]\n",
    "    i += 1\n",
    "df_results.sort_values(by=['ROC AUC Mean'], ascending=False)"
   ]
  },
  {
   "cell_type": "code",
   "execution_count": 69,
   "metadata": {},
   "outputs": [
    {
     "data": {
      "image/png": "[encoded data removed]",
      "text/plain": [
       "<Figure size 1080x504 with 1 Axes>"
      ]
     },
     "metadata": {
      "needs_background": "light"
     },
     "output_type": "display_data"
    }
   ],
   "source": [
    "\n",
    "fig = plt.figure(figsize=(15, 7))\n",
    "fig.suptitle('Algorithm Accuracy Comparison')\n",
    "ax = fig.add_subplot(111)\n",
    "plt.boxplot(acc_results)\n",
    "ax.set_xticklabels(names)\n",
    "plt.show()"
   ]
  },
  {
   "cell_type": "code",
   "execution_count": 71,
   "metadata": {},
   "outputs": [
    {
     "data": {
      "image/png": "[encoded data removed]",
      "text/plain": [
       "<Figure size 1080x504 with 1 Axes>"
      ]
     },
     "metadata": {
      "needs_background": "light"
     },
     "output_type": "display_data"
    }
   ],
   "source": [
    "fig = plt.figure(figsize=(15, 7))\n",
    "fig.suptitle('Сравнение ROC AUC ')\n",
    "ax = fig.add_subplot(111)\n",
    "plt.boxplot(auc_results)\n",
    "ax.set_xticklabels(names)\n",
    "plt.show()"
   ]
  },
  {
   "cell_type": "markdown",
   "metadata": {},
   "source": [
    "# Находим наилучшие гиперпараметры"
   ]
  },
  {
   "cell_type": "markdown",
   "metadata": {},
   "source": [
    "Logistic Regression"
   ]
  },
  {
   "cell_type": "code",
   "execution_count": 48,
   "metadata": {},
   "outputs": [
    {
     "name": "stderr",
     "output_type": "stream",
     "text": [
      "C:\\Users\\margarita.hahan\\AppData\\Local\\Continuum\\anaconda3\\lib\\site-packages\\sklearn\\model_selection\\_split.py:296: FutureWarning: Setting a random_state has no effect since shuffle is False. This will raise an error in 0.24. You should leave random_state to its default (None), or set shuffle=True.\n",
      "  FutureWarning\n"
     ]
    },
    {
     "name": "stdout",
     "output_type": "stream",
     "text": [
      "AUC score (STD): 0.76 (0.03)\n"
     ]
    }
   ],
   "source": [
    "\n",
    "kfold = model_selection.KFold(n_splits=10, random_state=7)\n",
    "modelCV = LogisticRegression(solver='liblinear',\n",
    "                             class_weight=\"balanced\", \n",
    "                             random_state=7)\n",
    "scoring = 'roc_auc'\n",
    "results = model_selection.cross_val_score(\n",
    "    modelCV, X_train, y_train, cv=kfold, scoring=scoring)\n",
    "print(\"AUC score (STD): %.2f (%.2f)\" % (results.mean(), results.std()))"
   ]
  },
  {
   "cell_type": "code",
   "execution_count": 49,
   "metadata": {},
   "outputs": [
    {
     "name": "stdout",
     "output_type": "stream",
     "text": [
      "====================\n",
      "best params: LogisticRegression(C=1.9909999999999997, class_weight='balanced', dual=False,\n",
      "                   fit_intercept=True, intercept_scaling=1, l1_ratio=None,\n",
      "                   max_iter=100, multi_class='auto', n_jobs=None, penalty='l2',\n",
      "                   random_state=7, solver='liblinear', tol=0.0001, verbose=0,\n",
      "                   warm_start=False)\n",
      "best params: {'C': 1.9909999999999997}\n",
      "best score: 0.7593592520159207\n",
      "====================\n"
     ]
    },
    {
     "name": "stderr",
     "output_type": "stream",
     "text": [
      "C:\\Users\\margarita.hahan\\AppData\\Local\\Continuum\\anaconda3\\lib\\site-packages\\sklearn\\model_selection\\_search.py:823: FutureWarning: The parameter 'iid' is deprecated in 0.22 and will be removed in 0.24.\n",
      "  \"removed in 0.24.\", FutureWarning\n"
     ]
    }
   ],
   "source": [
    "param_grid = {'C': np.arange(1e-03, 2, 0.01)} \n",
    "log_gs = GridSearchCV(LogisticRegression(solver='liblinear',\n",
    "                                         class_weight=\"balanced\", \n",
    "                                         random_state=7),\n",
    "                      iid=True,\n",
    "                      return_train_score=True,\n",
    "                      param_grid=param_grid,\n",
    "                      scoring='roc_auc',\n",
    "                      cv=10)\n",
    "\n",
    "log_grid = log_gs.fit(X_train, y_train)\n",
    "log_opt = log_grid.best_estimator_\n",
    "results = log_gs.cv_results_\n",
    "\n",
    "print('='*20)\n",
    "print(\"best params: \" + str(log_gs.best_estimator_))\n",
    "print(\"best params: \" + str(log_gs.best_params_))\n",
    "print('best score:', log_gs.best_score_)\n",
    "print('='*20)"
   ]
  },
  {
   "cell_type": "code",
   "execution_count": 72,
   "metadata": {},
   "outputs": [],
   "source": [
    "# importing libraries for data visualisations\n",
    "import seaborn as sns\n",
    "from matplotlib import pyplot\n",
    "import matplotlib.pyplot as plt"
   ]
  },
  {
   "cell_type": "code",
   "execution_count": 51,
   "metadata": {},
   "outputs": [
    {
     "data": {
      "text/plain": [
       "Text(0.5, 257.44, 'Predicted label')"
      ]
     },
     "execution_count": 51,
     "metadata": {},
     "output_type": "execute_result"
    },
    {
     "data": {
      "image/png": "[encoded data removed]",
      "text/plain": [
       "<Figure size 432x288 with 2 Axes>"
      ]
     },
     "metadata": {
      "needs_background": "light"
     },
     "output_type": "display_data"
    }
   ],
   "source": [
    "## Confusion Matrix\n",
    "cnf_matrix = metrics.confusion_matrix(y_test, log_opt.predict(X_test))\n",
    "class_names=[0,1] # name  of classes\n",
    "fig, ax = plt.subplots()\n",
    "tick_marks = np.arange(len(class_names))\n",
    "plt.xticks(tick_marks, class_names)\n",
    "plt.yticks(tick_marks, class_names)\n",
    "# create heatmap\n",
    "sns.heatmap(pd.DataFrame(cnf_matrix), annot=True, cmap=\"YlGnBu\" ,fmt='g')\n",
    "ax.xaxis.set_label_position(\"top\")\n",
    "plt.tight_layout()\n",
    "plt.title('Confusion matrix', y=1.1)\n",
    "plt.ylabel('Actual label')\n",
    "plt.xlabel('Predicted label')"
   ]
  },
  {
   "cell_type": "code",
   "execution_count": 52,
   "metadata": {},
   "outputs": [
    {
     "name": "stdout",
     "output_type": "stream",
     "text": [
      "Accuracy of Logistic Regression Classifier on test set: 66.49\n"
     ]
    }
   ],
   "source": [
    "#у нас несбалансированная выборка , в связи с чем на Accuracy можно не обращать внимание\n",
    "print('Accuracy of Logistic Regression Classifier on test set: {:.2f}'.format(log_opt.score(X_test, y_test)*100))"
   ]
  },
  {
   "cell_type": "code",
   "execution_count": 54,
   "metadata": {},
   "outputs": [
    {
     "name": "stdout",
     "output_type": "stream",
     "text": [
      "              precision    recall  f1-score   support\n",
      "\n",
      "         0.0       0.97      0.66      0.79      2605\n",
      "         1.0       0.14      0.73      0.23       197\n",
      "\n",
      "    accuracy                           0.66      2802\n",
      "   macro avg       0.55      0.70      0.51      2802\n",
      "weighted avg       0.91      0.66      0.75      2802\n",
      "\n"
     ]
    }
   ],
   "source": [
    "\n",
    "# Classification report for the optimised Log Regression\n",
    "log_opt.fit(X_train, y_train)\n",
    "print(classification_report(y_test, log_opt.predict(X_test)))"
   ]
  },
  {
   "cell_type": "code",
   "execution_count": 55,
   "metadata": {},
   "outputs": [
    {
     "name": "stdout",
     "output_type": "stream",
     "text": [
      "AUC score: 0.755\n"
     ]
    }
   ],
   "source": [
    "log_opt.fit(X_train, y_train) # fit optimised model to the training data\n",
    "probs = log_opt.predict_proba(X_test) # predict probabilities\n",
    "probs = probs[:, 1] # we will only keep probabilities associated with the employee leaving\n",
    "logit_roc_auc = roc_auc_score(y_test, probs) # calculate AUC score using test dataset\n",
    "print('AUC score: %.3f' % logit_roc_auc)"
   ]
  },
  {
   "cell_type": "markdown",
   "metadata": {},
   "source": [
    "Random Forest"
   ]
  },
  {
   "cell_type": "code",
   "execution_count": 56,
   "metadata": {},
   "outputs": [
    {
     "name": "stderr",
     "output_type": "stream",
     "text": [
      "C:\\Users\\margarita.hahan\\AppData\\Local\\Continuum\\anaconda3\\lib\\site-packages\\sklearn\\model_selection\\_search.py:823: FutureWarning: The parameter 'iid' is deprecated in 0.22 and will be removed in 0.24.\n",
      "  \"removed in 0.24.\", FutureWarning\n"
     ]
    },
    {
     "name": "stdout",
     "output_type": "stream",
     "text": [
      "====================\n",
      "best params: RandomForestClassifier(bootstrap=True, ccp_alpha=0.0, class_weight='balanced',\n",
      "                       criterion='gini', max_depth=5, max_features='auto',\n",
      "                       max_leaf_nodes=None, max_samples=None,\n",
      "                       min_impurity_decrease=0.0, min_impurity_split=None,\n",
      "                       min_samples_leaf=4, min_samples_split=10,\n",
      "                       min_weight_fraction_leaf=0.0, n_estimators=100,\n",
      "                       n_jobs=None, oob_score=False, random_state=7, verbose=0,\n",
      "                       warm_start=False)\n",
      "best params: {'max_depth': 5, 'min_samples_leaf': 4, 'min_samples_split': 10, 'n_estimators': 100}\n",
      "best score: 0.7655909330309426\n",
      "====================\n"
     ]
    }
   ],
   "source": [
    "rf_classifier = RandomForestClassifier(class_weight = \"balanced\",\n",
    "                                       random_state=7)\n",
    "param_grid = {'n_estimators': [50, 75, 100, 125, 150, 175],\n",
    "              'min_samples_split':[2,4,6,8,10],\n",
    "              'min_samples_leaf': [1, 2, 3, 4],\n",
    "              'max_depth': [5, 10, 15, 20, 25]}\n",
    "\n",
    "grid_obj = GridSearchCV(rf_classifier,\n",
    "                        iid=True,\n",
    "                        return_train_score=True,\n",
    "                        param_grid=param_grid,\n",
    "                        scoring='roc_auc',\n",
    "                        cv=10)\n",
    "\n",
    "grid_fit = grid_obj.fit(X_train, y_train)\n",
    "rf_opt = grid_fit.best_estimator_\n",
    "\n",
    "print('='*20)\n",
    "print(\"best params: \" + str(grid_obj.best_estimator_))\n",
    "print(\"best params: \" + str(grid_obj.best_params_))\n",
    "print('best score:', grid_obj.best_score_)\n",
    "print('='*20)"
   ]
  },
  {
   "cell_type": "code",
   "execution_count": 59,
   "metadata": {},
   "outputs": [
    {
     "data": {
      "image/png": "[encoded data removed]",
      "text/plain": [
       "<Figure size 1080x504 with 1 Axes>"
      ]
     },
     "metadata": {
      "needs_background": "light"
     },
     "output_type": "display_data"
    }
   ],
   "source": [
    "importances = rf_opt.feature_importances_\n",
    "indices = np.argsort(importances)[::-1] # Sort feature importances in descending order\n",
    "names = [X_train.columns[i] for i in indices] # Rearrange feature names so they match the sorted feature importances\n",
    "plt.figure(figsize=(15, 7)) # Create plot\n",
    "plt.title(\"Feature Importance\") # Create plot title\n",
    "plt.bar(range(X_train.shape[1]), importances[indices]) # Add bars\n",
    "plt.xticks(range(X_train.shape[1]), names, rotation=90) # Add feature names as x-axis labels\n",
    "plt.show() # Show plot"
   ]
  },
  {
   "cell_type": "code",
   "execution_count": 61,
   "metadata": {},
   "outputs": [
    {
     "data": {
      "text/html": [
       "<div>\n",
       "<style scoped>\n",
       "    .dataframe tbody tr th:only-of-type {\n",
       "        vertical-align: middle;\n",
       "    }\n",
       "\n",
       "    .dataframe tbody tr th {\n",
       "        vertical-align: top;\n",
       "    }\n",
       "\n",
       "    .dataframe thead th {\n",
       "        text-align: right;\n",
       "    }\n",
       "</style>\n",
       "<table border=\"1\" class=\"dataframe\">\n",
       "  <thead>\n",
       "    <tr style=\"text-align: right;\">\n",
       "      <th></th>\n",
       "      <th>Feature</th>\n",
       "      <th>Coefficient</th>\n",
       "    </tr>\n",
       "  </thead>\n",
       "  <tbody>\n",
       "    <tr>\n",
       "      <th>0</th>\n",
       "      <td>Tenure</td>\n",
       "      <td>0.332918</td>\n",
       "    </tr>\n",
       "    <tr>\n",
       "      <th>1</th>\n",
       "      <td>Fact productivity</td>\n",
       "      <td>0.196141</td>\n",
       "    </tr>\n",
       "    <tr>\n",
       "      <th>2</th>\n",
       "      <td>Worked</td>\n",
       "      <td>0.116857</td>\n",
       "    </tr>\n",
       "    <tr>\n",
       "      <th>3</th>\n",
       "      <td>Age</td>\n",
       "      <td>0.085554</td>\n",
       "    </tr>\n",
       "    <tr>\n",
       "      <th>4</th>\n",
       "      <td>Salary vs Last salary</td>\n",
       "      <td>0.080903</td>\n",
       "    </tr>\n",
       "    <tr>\n",
       "      <th>5</th>\n",
       "      <td>Distance</td>\n",
       "      <td>0.065011</td>\n",
       "    </tr>\n",
       "    <tr>\n",
       "      <th>6</th>\n",
       "      <td>Vacation</td>\n",
       "      <td>0.021119</td>\n",
       "    </tr>\n",
       "    <tr>\n",
       "      <th>7</th>\n",
       "      <td># of mistakes</td>\n",
       "      <td>0.017600</td>\n",
       "    </tr>\n",
       "    <tr>\n",
       "      <th>8</th>\n",
       "      <td>Sick</td>\n",
       "      <td>0.014449</td>\n",
       "    </tr>\n",
       "    <tr>\n",
       "      <th>9</th>\n",
       "      <td>Gender</td>\n",
       "      <td>0.010533</td>\n",
       "    </tr>\n",
       "  </tbody>\n",
       "</table>\n",
       "</div>"
      ],
      "text/plain": [
       "                 Feature  Coefficient\n",
       "0                 Tenure     0.332918\n",
       "1      Fact productivity     0.196141\n",
       "2                 Worked     0.116857\n",
       "3                    Age     0.085554\n",
       "4  Salary vs Last salary     0.080903\n",
       "5               Distance     0.065011\n",
       "6               Vacation     0.021119\n",
       "7          # of mistakes     0.017600\n",
       "8                   Sick     0.014449\n",
       "9                 Gender     0.010533"
      ]
     },
     "execution_count": 61,
     "metadata": {},
     "output_type": "execute_result"
    }
   ],
   "source": [
    "importances = rf_opt.feature_importances_\n",
    "df_param_coeff = pd.DataFrame(columns=['Feature', 'Coefficient'])\n",
    "for i in range(23):\n",
    "    feat = X_train.columns[i]\n",
    "    coeff = importances[i]\n",
    "    df_param_coeff.loc[i] = (feat, coeff)\n",
    "df_param_coeff.sort_values(by='Coefficient', ascending=False, inplace=True)\n",
    "df_param_coeff = df_param_coeff.reset_index(drop=True)\n",
    "df_param_coeff.head(10)"
   ]
  },
  {
   "cell_type": "code",
   "execution_count": 62,
   "metadata": {},
   "outputs": [
    {
     "name": "stdout",
     "output_type": "stream",
     "text": [
      "Accuracy of RandomForest Regression Classifier on test set: 73.02\n"
     ]
    }
   ],
   "source": [
    "print('Accuracy of RandomForest Regression Classifier on test set: {:.2f}'.format(rf_opt.score(X_test, y_test)*100))"
   ]
  },
  {
   "cell_type": "code",
   "execution_count": 63,
   "metadata": {},
   "outputs": [
    {
     "name": "stdout",
     "output_type": "stream",
     "text": [
      "              precision    recall  f1-score   support\n",
      "\n",
      "         0.0       0.97      0.74      0.84      2605\n",
      "         1.0       0.16      0.65      0.25       197\n",
      "\n",
      "    accuracy                           0.73      2802\n",
      "   macro avg       0.56      0.70      0.54      2802\n",
      "weighted avg       0.91      0.73      0.79      2802\n",
      "\n",
      "Confusion Matrix\n",
      "[[1917  688]\n",
      " [  68  129]]\n"
     ]
    }
   ],
   "source": [
    "# Classification report for the optimised RF Regression\n",
    "rf_opt.fit(X_train, y_train)\n",
    "print(classification_report(y_test, rf_opt.predict(X_test)))\n",
    "print('Confusion Matrix\\n' + str(confusion_matrix(y_test,  rf_opt.predict(X_test))))"
   ]
  },
  {
   "cell_type": "code",
   "execution_count": 64,
   "metadata": {},
   "outputs": [
    {
     "data": {
      "text/plain": [
       "Text(0.5, 257.44, 'Predicted label')"
      ]
     },
     "execution_count": 64,
     "metadata": {},
     "output_type": "execute_result"
    },
    {
     "data": {
      "image/png": "[encoded data removed]",
      "text/plain": [
       "<Figure size 432x288 with 2 Axes>"
      ]
     },
     "metadata": {
      "needs_background": "light"
     },
     "output_type": "display_data"
    }
   ],
   "source": [
    "## Confusion Matrix\n",
    "cnf_matrix = metrics.confusion_matrix(y_test, rf_opt.predict(X_test))\n",
    "class_names=[0,1] # name  of classes\n",
    "fig, ax = plt.subplots()\n",
    "tick_marks = np.arange(len(class_names))\n",
    "plt.xticks(tick_marks, class_names)\n",
    "plt.yticks(tick_marks, class_names)\n",
    "# create heatmap\n",
    "sns.heatmap(pd.DataFrame(cnf_matrix), annot=True, cmap=\"YlGnBu\" ,fmt='g')\n",
    "ax.xaxis.set_label_position(\"top\")\n",
    "plt.tight_layout()\n",
    "plt.title('Confusion matrix', y=1.1)\n",
    "plt.ylabel('Actual label')\n",
    "plt.xlabel('Predicted label')"
   ]
  },
  {
   "cell_type": "code",
   "execution_count": 65,
   "metadata": {},
   "outputs": [
    {
     "name": "stdout",
     "output_type": "stream",
     "text": [
      "AUC score: 0.768\n"
     ]
    }
   ],
   "source": [
    "rf_opt.fit(X_train, y_train) # fit optimised model to the training data\n",
    "probs = rf_opt.predict_proba(X_test) # predict probabilities\n",
    "probs = probs[:, 1] # we will only keep probabilities associated with the employee leaving\n",
    "rf_opt_roc_auc = roc_auc_score(y_test, probs) # calculate AUC score using test dataset\n",
    "print('AUC score: %.3f' % rf_opt_roc_auc)"
   ]
  },
  {
   "cell_type": "code",
   "execution_count": 66,
   "metadata": {},
   "outputs": [
    {
     "data": {
      "image/png": "[encoded data removed]",
      "text/plain": [
       "<Figure size 1008x432 with 1 Axes>"
      ]
     },
     "metadata": {
      "needs_background": "light"
     },
     "output_type": "display_data"
    }
   ],
   "source": [
    "from sklearn.metrics import roc_curve\n",
    "fpr, tpr, thresholds = roc_curve(y_test, log_opt.predict_proba(X_test)[:,1])\n",
    "rf_fpr, rf_tpr, rf_thresholds = roc_curve(y_test, rf_opt.predict_proba(X_test)[:,1])\n",
    "plt.figure(figsize=(14, 6))\n",
    "\n",
    "# Plot Logistic Regression ROC\n",
    "plt.plot(fpr, tpr, label='Logistic Regression (area = %0.2f)' % logit_roc_auc)\n",
    "# Plot Random Forest ROC\n",
    "plt.plot(rf_fpr, rf_tpr, label='Random Forest (area = %0.2f)' % rf_opt_roc_auc)\n",
    "# Plot Base Rate ROC\n",
    "plt.plot([0,1], [0,1],label='Base Rate' 'k--')\n",
    "\n",
    "plt.xlim([0.0, 1.0])\n",
    "plt.ylim([0.0, 1.05])\n",
    "plt.xlabel('False Positive Rate')\n",
    "plt.ylabel('True Positive Rate')\n",
    "plt.title('ROC Graph')\n",
    "plt.legend(loc=\"lower right\")\n",
    "plt.show()"
   ]
  },
  {
   "cell_type": "code",
   "execution_count": null,
   "metadata": {},
   "outputs": [],
   "source": []
  },
  {
   "cell_type": "code",
   "execution_count": null,
   "metadata": {},
   "outputs": [],
   "source": []
  }
 ],
 "metadata": {
  "kernelspec": {
   "display_name": "Python 3",
   "language": "python",
   "name": "python3"
  },
  "language_info": {
   "codemirror_mode": {
    "name": "ipython",
    "version": 3
   },
   "file_extension": ".py",
   "mimetype": "text/x-python",
   "name": "python",
   "nbconvert_exporter": "python",
   "pygments_lexer": "ipython3",
   "version": "3.7.1"
  }
 },
 "nbformat": 4,
 "nbformat_minor": 2
}
